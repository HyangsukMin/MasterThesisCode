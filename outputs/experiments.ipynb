{
 "cells": [
  {
   "cell_type": "code",
   "execution_count": 1,
   "id": "c6d653dd-d3fc-4fca-b7c5-9668da945282",
   "metadata": {},
   "outputs": [],
   "source": [
    "import pandas as pd\n",
    "import numpy as np"
   ]
  },
  {
   "cell_type": "code",
   "execution_count": 3,
   "id": "e006a3af-4402-48a9-8613-a65e4109f8ca",
   "metadata": {},
   "outputs": [],
   "source": [
    "dataset = [\"skoda\", \"pamap2_subject101\", \"pamap2_subject108\", \"motionsense_2\", \"motionsense_1\", \"mHealth_subject2\", \"mHealth_subject1\"]\n",
    "models = [\"kmeans\",\"gmmfull\",\"gmmdiag\",\"ticc\",\"ticc0\"]"
   ]
  },
  {
   "cell_type": "code",
   "execution_count": 4,
   "id": "b643b26a-c208-44a0-b386-1f4d8dec55cb",
   "metadata": {},
   "outputs": [],
   "source": [
    "def summarize(results):\n",
    "    summarizes_name = []\n",
    "    summarizes_mean = []\n",
    "    summarizes_std = []\n",
    "    epochs = int(results[\"w_model_epoch\"].sort_values(ascending = False, ignore_index = True)[0].split(\"_\")[-1]) + 1\n",
    "    for i in range(0, len(results), epochs):\n",
    "        summarizes_name.append(results.iloc[i,0])\n",
    "        summarizes_mean.append(results[i:i+epochs].mean(axis=0).values.tolist())\n",
    "        summarizes_std.append(results[i:i+epochs].std(axis=0).values.tolist())\n",
    "    m = pd.DataFrame(summarizes_mean, columns = [\"nmi\",\"ami\",\"ari\",\"f1\",\"acc\"])\n",
    "    s = pd.DataFrame(summarizes_std, columns = [\"nmi\",\"ami\",\"ari\",\"f1\",\"acc\"])\n",
    "    r = pd.concat([m, s], axis = 1)\n",
    "    r[\"w_model\"] = summarizes_name\n",
    "    return r"
   ]
  },
  {
   "cell_type": "code",
   "execution_count": 5,
   "id": "91bf859f-5ae2-4c82-8382-a8a2fa549a3c",
   "metadata": {},
   "outputs": [],
   "source": [
    "dataset = \"skoda\"\n",
    "df = []\n",
    "for i in range(1, 6):\n",
    "    filename = \"{:s}_TTC_{:d}.csv\".format(dataset, i)\n",
    "    df.append(pd.read_csv(filename).values[0])"
   ]
  },
  {
   "cell_type": "code",
   "execution_count": 72,
   "id": "731b36c7-f0b1-49ae-8445-11be0f9ac3ba",
   "metadata": {},
   "outputs": [
    {
     "data": {
      "text/plain": [
       "array([0.02168093, 0.02168512, 0.04120102, 0.07219825, 0.05399843])"
      ]
     },
     "execution_count": 72,
     "metadata": {},
     "output_type": "execute_result"
    }
   ],
   "source": [
    "np.array(df).std(axis = 0)"
   ]
  },
  {
   "cell_type": "code",
   "execution_count": 73,
   "id": "1536726e-305c-40a4-b223-a98614bc06fd",
   "metadata": {},
   "outputs": [],
   "source": [
    "df = pd.DataFrame(np.array(df), columns = [\"nmi\", \"armi\", \"ari\", \"f1\", \"acc\"])\n",
    "df.to_csv(\"summarize_{:s}.csv\".format(dataset), index = False)"
   ]
  },
  {
   "cell_type": "code",
   "execution_count": 74,
   "id": "e887b95b-7e97-4195-b38a-f698df372970",
   "metadata": {},
   "outputs": [
    {
     "data": {
      "text/plain": [
       "nmi     0.024240\n",
       "armi    0.024245\n",
       "ari     0.046064\n",
       "f1      0.080720\n",
       "acc     0.060372\n",
       "dtype: float64"
      ]
     },
     "execution_count": 74,
     "metadata": {},
     "output_type": "execute_result"
    }
   ],
   "source": [
    "df.std(axis = 0)"
   ]
  },
  {
   "cell_type": "code",
   "execution_count": 89,
   "id": "8dd3d2d3-e27f-4de5-be1a-237ff5c98989",
   "metadata": {},
   "outputs": [],
   "source": [
    "dataset = \"pamap2\"\n",
    "df = []\n",
    "for i in range(1, 6):\n",
    "    filename = \"{:s}_TTC_{:d}.csv\".format(dataset, i)\n",
    "    df.append(pd.read_csv(filename).values[0])"
   ]
  },
  {
   "cell_type": "code",
   "execution_count": 90,
   "id": "314d14b8-b4de-453b-aaeb-4c97b89ef21e",
   "metadata": {},
   "outputs": [
    {
     "data": {
      "text/plain": [
       "[array([0.79990889, 0.79981291, 0.70008787, 0.66274627, 0.72663619]),\n",
       " array([0.8104469 , 0.81035539, 0.70546087, 0.66546481, 0.74538511]),\n",
       " array([0.85263609, 0.85256547, 0.77198734, 0.71301788, 0.78758945]),\n",
       " array([0.74950973, 0.74938981, 0.57684737, 0.63134044, 0.66230735]),\n",
       " array([0.84319851, 0.84312304, 0.74590941, 0.68733291, 0.76407615])]"
      ]
     },
     "execution_count": 90,
     "metadata": {},
     "output_type": "execute_result"
    }
   ],
   "source": [
    "df"
   ]
  },
  {
   "cell_type": "code",
   "execution_count": 91,
   "id": "611a88f0-66be-4f04-a78a-4d5a6ab5eacf",
   "metadata": {},
   "outputs": [
    {
     "data": {
      "text/plain": [
       "array([0.81114002, 0.81104933, 0.70005857, 0.67198046, 0.73719885])"
      ]
     },
     "execution_count": 91,
     "metadata": {},
     "output_type": "execute_result"
    }
   ],
   "source": [
    "np.array(df).astype(float).mean(axis = 0)"
   ]
  },
  {
   "cell_type": "code",
   "execution_count": 82,
   "id": "2af936de-1ee5-4ff7-b56e-dfd72a245cdb",
   "metadata": {},
   "outputs": [],
   "source": [
    "df = pd.DataFrame(np.array(df), columns = [\"nmi\", \"armi\", \"ari\", \"f1\", \"acc\"])\n",
    "df.to_csv(\"summarize_{:s}.csv\".format(dataset), index = False)"
   ]
  },
  {
   "cell_type": "code",
   "execution_count": 21,
   "id": "921824d7-9c70-4636-a5fa-435266e2577b",
   "metadata": {},
   "outputs": [
    {
     "data": {
      "text/plain": [
       "array([0.6097469 , 0.6096819 , 0.45038775, 0.56901768, 0.58439662])"
      ]
     },
     "execution_count": 21,
     "metadata": {},
     "output_type": "execute_result"
    }
   ],
   "source": [
    "pd.read_csv(\"skoda_ablation_pseudoLabel.csv\").iloc[12:].values.astype(float).mean(axis=0)"
   ]
  },
  {
   "cell_type": "code",
   "execution_count": 23,
   "id": "881ee88d-1014-4592-85eb-bc8fe51ec4da",
   "metadata": {},
   "outputs": [
    {
     "data": {
      "text/plain": [
       "array([0.07165738, 0.07166958, 0.09493318, 0.08164354, 0.08419544])"
      ]
     },
     "execution_count": 23,
     "metadata": {},
     "output_type": "execute_result"
    }
   ],
   "source": [
    "pd.read_csv(\"skoda_ablation_pseudoLabel.csv\").iloc[12:].values.astype(float).std(axis=0)"
   ]
  },
  {
   "cell_type": "code",
   "execution_count": 21,
   "id": "f5db621b-1186-4d28-a52e-be8a4ccd55db",
   "metadata": {},
   "outputs": [],
   "source": [
    "import pandas as pd\n",
    "import numpy as np"
   ]
  },
  {
   "cell_type": "code",
   "execution_count": 51,
   "id": "9cd15c3e-abb0-4012-9a1e-e8632903a1ff",
   "metadata": {
    "tags": []
   },
   "outputs": [
    {
     "name": "stdout",
     "output_type": "stream",
     "text": [
      "mhealth\n",
      "2\n",
      "nmi    0.745597\n",
      "ami    0.745405\n",
      "ari    0.560613\n",
      "f1     0.581905\n",
      "acc    0.642115\n",
      "dtype: float64\n",
      "nmi    0.103542\n",
      "ami    0.103630\n",
      "ari    0.140352\n",
      "f1     0.106179\n",
      "acc    0.095017\n",
      "dtype: float64\n",
      "pamap2\n",
      "nmi    0.607383\n",
      "ami    0.607185\n",
      "ari    0.414146\n",
      "f1     0.461380\n",
      "acc    0.522412\n",
      "dtype: float64\n",
      "nmi    0.044856\n",
      "ami    0.044879\n",
      "ari    0.033194\n",
      "f1     0.031616\n",
      "acc    0.023627\n",
      "dtype: float64\n",
      "skoda\n",
      "nmi    0.681396\n",
      "ami    0.681358\n",
      "ari    0.474523\n",
      "f1     0.617856\n",
      "acc    0.626141\n",
      "dtype: float64\n",
      "nmi    0.141107\n",
      "ami    0.141126\n",
      "ari    0.137534\n",
      "f1     0.108328\n",
      "acc    0.084353\n",
      "dtype: float64\n"
     ]
    }
   ],
   "source": [
    "for dataset in [\"mhealth\",  \"pamap2\", \"skoda\"]:\n",
    "    print(dataset)\n",
    "    results = []\n",
    "    for i in range(1,6):\n",
    "        try:\n",
    "            results.append(pd.read_csv(\"{:s}_TTC_noTCN5_{:d}.csv\".format(dataset, i)))\n",
    "        except:\n",
    "            print(i)\n",
    "            pass\n",
    "    try:\n",
    "        results = pd.concat(results, axis = 0)\n",
    "    except TypeError:\n",
    "        results = np.stack(results, axis = 0)\n",
    "        results = results.astype(float)\n",
    "    print(results.mean(axis = 0))\n",
    "    print(results.std(axis = 0))"
   ]
  },
  {
   "cell_type": "code",
   "execution_count": 19,
   "id": "2d7e7e97-78d2-4432-8fed-cf11d302cae5",
   "metadata": {},
   "outputs": [
    {
     "data": {
      "text/plain": [
       "array(['0.9251614003831782', '0.9251091490858641', '0.8688983726257807',\n",
       "       '0.8778992451078979', '0.8920225166316029'], dtype=object)"
      ]
     },
     "execution_count": 19,
     "metadata": {},
     "output_type": "execute_result"
    }
   ],
   "source": [
    "pd.read_csv(\"{:s}_TTC_noTCN_{:d}.csv\".format(\"mhealth\", 1)).iloc[-1,:].values"
   ]
  },
  {
   "cell_type": "code",
   "execution_count": 30,
   "id": "825a4ccf-0dbb-412b-9bb4-4f88832e2e23",
   "metadata": {},
   "outputs": [
    {
     "data": {
      "text/plain": [
       "array([[0.9251614 , 0.92510915, 0.86889837, 0.87789925, 0.89202252],\n",
       "       [0.9251614 , 0.92510915, 0.86889837, 0.87789925, 0.89202252],\n",
       "       [0.9251614 , 0.92510915, 0.86889837, 0.87789925, 0.89202252],\n",
       "       [0.9251614 , 0.92510915, 0.86889837, 0.87789925, 0.89202252],\n",
       "       [0.9251614 , 0.92510915, 0.86889837, 0.87789925, 0.89202252]])"
      ]
     },
     "execution_count": 30,
     "metadata": {},
     "output_type": "execute_result"
    }
   ],
   "source": [
    "results.astype(float)"
   ]
  },
  {
   "cell_type": "code",
   "execution_count": 65,
   "id": "8d8a75a3-4c11-4533-9df7-75d79ddf04df",
   "metadata": {},
   "outputs": [],
   "source": [
    "import pandas as pd\n",
    "import numpy as np"
   ]
  },
  {
   "cell_type": "code",
   "execution_count": 67,
   "id": "07ce4f9e-7831-499e-a8ec-8612dadb6177",
   "metadata": {},
   "outputs": [
    {
     "name": "stdout",
     "output_type": "stream",
     "text": [
      "mhealth\n",
      "1\n",
      "2\n",
      "3\n",
      "4\n",
      "5\n",
      "mhealth\n",
      "pamap2\n",
      "[0.79829037 0.79819231 0.66445502 0.63966712 0.70518681]\n",
      "[0.00498727 0.00498969 0.00573208 0.00567554 0.00332571]\n",
      "skoda\n",
      "1\n",
      "2\n",
      "3\n",
      "4\n",
      "5\n",
      "skoda\n"
     ]
    }
   ],
   "source": [
    "for dataset in [\"mhealth\",\"pamap2\", \"skoda\"]:\n",
    "    print(dataset)\n",
    "    results = []\n",
    "    for i in range(1,6):\n",
    "        try:\n",
    "            results.append(pd.read_csv(\"{:s}_TTC_STCN2_{:d}.csv\".format(dataset, i)).values[-1])\n",
    "        except:\n",
    "            print(i)\n",
    "            pass\n",
    "    try:\n",
    "        results = pd.concat(results, axis = 0)\n",
    "        print(results.mean(axis = 0))\n",
    "        print(results.std(axis = 0))\n",
    "    except TypeError:\n",
    "        results = np.stack(results, axis = 0)\n",
    "        results = results.astype(float)\n",
    "        print(results.mean(axis = 0))\n",
    "        print(results.std(axis = 0))\n",
    "    except ValueError:\n",
    "        print(dataset)"
   ]
  },
  {
   "cell_type": "code",
   "execution_count": 64,
   "id": "6feab4c8-7fd8-4150-9e2d-6bbc4dda323d",
   "metadata": {},
   "outputs": [
    {
     "name": "stdout",
     "output_type": "stream",
     "text": [
      "mhealth\n",
      "[0.94077326 0.94073164 0.89235771 0.87315414 0.90664696]\n",
      "[0.00306664 0.00306871 0.00269912 0.02284695 0.00696633]\n",
      "pamap2\n",
      "1\n",
      "2\n",
      "3\n",
      "4\n",
      "5\n",
      "pamap2\n",
      "skoda\n",
      "1\n",
      "2\n",
      "3\n",
      "4\n",
      "5\n",
      "skoda\n"
     ]
    }
   ],
   "source": [
    "for dataset in [\"mhealth\",\"pamap2\", \"skoda\"]:\n",
    "    print(dataset)\n",
    "    results = []\n",
    "    for i in range(1,6):\n",
    "        try:\n",
    "            results.append(pd.read_csv(\"{:s}_TTC_STCN3_noPseudo_{:d}.csv\".format(dataset, i)).values[-1])\n",
    "        except:\n",
    "            print(i)\n",
    "            pass\n",
    "    try:\n",
    "        results = pd.concat(results, axis = 0)\n",
    "        print(results.mean(axis = 0))\n",
    "        print(results.std(axis = 0))\n",
    "    except TypeError:\n",
    "        results = np.stack(results, axis = 0)\n",
    "        results = results.astype(float)\n",
    "        print(results.mean(axis = 0))\n",
    "        print(results.std(axis = 0))\n",
    "    except ValueError:\n",
    "        print(dataset)"
   ]
  },
  {
   "cell_type": "code",
   "execution_count": 72,
   "id": "646a8bf0-c3ea-413a-b6a1-aca99f438f1f",
   "metadata": {
    "tags": []
   },
   "outputs": [
    {
     "name": "stdout",
     "output_type": "stream",
     "text": [
      "skoda\n",
      "[0.87964462 0.87963107 0.72409212 0.75557446 0.73647673]\n",
      "[0.01786075 0.01786278 0.02973958 0.03766172 0.03037065]\n"
     ]
    }
   ],
   "source": [
    "for dataset in [\"skoda\"]:\n",
    "    print(dataset)\n",
    "    results = []\n",
    "    for i in range(1,6):\n",
    "        try:\n",
    "            results.append(pd.read_csv(\"{:s}_TTC_STCN5_0.3_0.0001_w128_attn_noPseudo_{:d}.csv\".format(dataset, i)).values[-1])\n",
    "        except:\n",
    "            print(i)\n",
    "            pass\n",
    "    try:\n",
    "        results = pd.concat(results, axis = 0)\n",
    "    except TypeError:\n",
    "        results = np.stack(results, axis = 0)\n",
    "        results = results.astype(float)\n",
    "    print(results.mean(axis = 0))\n",
    "    print(results.std(axis = 0))"
   ]
  },
  {
   "cell_type": "code",
   "execution_count": 109,
   "id": "ae708084-4087-4803-ac89-da5074002d3d",
   "metadata": {},
   "outputs": [
    {
     "name": "stdout",
     "output_type": "stream",
     "text": [
      "mhealth\n",
      "nmi    0.856344\n",
      "ami    0.856243\n",
      "ari    0.696646\n",
      "f1     0.682375\n",
      "acc    0.740513\n",
      "dtype: float64\n",
      "nmi    0.036497\n",
      "ami    0.036523\n",
      "ari    0.107540\n",
      "f1     0.107721\n",
      "acc    0.101030\n",
      "dtype: float64\n",
      "pamap2\n",
      "5\n",
      "nmi    0.824489\n",
      "ami    0.824404\n",
      "ari    0.700395\n",
      "f1     0.664241\n",
      "acc    0.741479\n",
      "dtype: float64\n",
      "nmi    0.009957\n",
      "ami    0.009962\n",
      "ari    0.020850\n",
      "f1     0.012380\n",
      "acc    0.011496\n",
      "dtype: float64\n",
      "skoda\n",
      "1\n",
      "2\n",
      "3\n",
      "4\n",
      "5\n"
     ]
    },
    {
     "ename": "ValueError",
     "evalue": "No objects to concatenate",
     "output_type": "error",
     "traceback": [
      "\u001b[0;31m---------------------------------------------------------------------------\u001b[0m",
      "\u001b[0;31mValueError\u001b[0m                                Traceback (most recent call last)",
      "\u001b[0;32m<ipython-input-109-edd17dceefd7>\u001b[0m in \u001b[0;36m<module>\u001b[0;34m\u001b[0m\n\u001b[1;32m      9\u001b[0m             \u001b[0;32mpass\u001b[0m\u001b[0;34m\u001b[0m\u001b[0;34m\u001b[0m\u001b[0m\n\u001b[1;32m     10\u001b[0m     \u001b[0;32mtry\u001b[0m\u001b[0;34m:\u001b[0m\u001b[0;34m\u001b[0m\u001b[0;34m\u001b[0m\u001b[0m\n\u001b[0;32m---> 11\u001b[0;31m         \u001b[0mresults\u001b[0m \u001b[0;34m=\u001b[0m \u001b[0mpd\u001b[0m\u001b[0;34m.\u001b[0m\u001b[0mconcat\u001b[0m\u001b[0;34m(\u001b[0m\u001b[0mresults\u001b[0m\u001b[0;34m,\u001b[0m \u001b[0maxis\u001b[0m \u001b[0;34m=\u001b[0m \u001b[0;36m0\u001b[0m\u001b[0;34m)\u001b[0m\u001b[0;34m\u001b[0m\u001b[0;34m\u001b[0m\u001b[0m\n\u001b[0m\u001b[1;32m     12\u001b[0m     \u001b[0;32mexcept\u001b[0m \u001b[0mTypeError\u001b[0m\u001b[0;34m:\u001b[0m\u001b[0;34m\u001b[0m\u001b[0;34m\u001b[0m\u001b[0m\n\u001b[1;32m     13\u001b[0m         \u001b[0mresults\u001b[0m \u001b[0;34m=\u001b[0m \u001b[0mnp\u001b[0m\u001b[0;34m.\u001b[0m\u001b[0mstack\u001b[0m\u001b[0;34m(\u001b[0m\u001b[0mresults\u001b[0m\u001b[0;34m,\u001b[0m \u001b[0maxis\u001b[0m \u001b[0;34m=\u001b[0m \u001b[0;36m0\u001b[0m\u001b[0;34m)\u001b[0m\u001b[0;34m\u001b[0m\u001b[0;34m\u001b[0m\u001b[0m\n",
      "\u001b[0;32m~/anaconda3/envs/tensor-gpu/lib/python3.8/site-packages/pandas/util/_decorators.py\u001b[0m in \u001b[0;36mwrapper\u001b[0;34m(*args, **kwargs)\u001b[0m\n\u001b[1;32m    309\u001b[0m                     \u001b[0mstacklevel\u001b[0m\u001b[0;34m=\u001b[0m\u001b[0mstacklevel\u001b[0m\u001b[0;34m,\u001b[0m\u001b[0;34m\u001b[0m\u001b[0;34m\u001b[0m\u001b[0m\n\u001b[1;32m    310\u001b[0m                 )\n\u001b[0;32m--> 311\u001b[0;31m             \u001b[0;32mreturn\u001b[0m \u001b[0mfunc\u001b[0m\u001b[0;34m(\u001b[0m\u001b[0;34m*\u001b[0m\u001b[0margs\u001b[0m\u001b[0;34m,\u001b[0m \u001b[0;34m**\u001b[0m\u001b[0mkwargs\u001b[0m\u001b[0;34m)\u001b[0m\u001b[0;34m\u001b[0m\u001b[0;34m\u001b[0m\u001b[0m\n\u001b[0m\u001b[1;32m    312\u001b[0m \u001b[0;34m\u001b[0m\u001b[0m\n\u001b[1;32m    313\u001b[0m         \u001b[0;32mreturn\u001b[0m \u001b[0mwrapper\u001b[0m\u001b[0;34m\u001b[0m\u001b[0;34m\u001b[0m\u001b[0m\n",
      "\u001b[0;32m~/anaconda3/envs/tensor-gpu/lib/python3.8/site-packages/pandas/core/reshape/concat.py\u001b[0m in \u001b[0;36mconcat\u001b[0;34m(objs, axis, join, ignore_index, keys, levels, names, verify_integrity, sort, copy)\u001b[0m\n\u001b[1;32m    292\u001b[0m     \u001b[0mValueError\u001b[0m\u001b[0;34m:\u001b[0m \u001b[0mIndexes\u001b[0m \u001b[0mhave\u001b[0m \u001b[0moverlapping\u001b[0m \u001b[0mvalues\u001b[0m\u001b[0;34m:\u001b[0m \u001b[0;34m[\u001b[0m\u001b[0;34m'a'\u001b[0m\u001b[0;34m]\u001b[0m\u001b[0;34m\u001b[0m\u001b[0;34m\u001b[0m\u001b[0m\n\u001b[1;32m    293\u001b[0m     \"\"\"\n\u001b[0;32m--> 294\u001b[0;31m     op = _Concatenator(\n\u001b[0m\u001b[1;32m    295\u001b[0m         \u001b[0mobjs\u001b[0m\u001b[0;34m,\u001b[0m\u001b[0;34m\u001b[0m\u001b[0;34m\u001b[0m\u001b[0m\n\u001b[1;32m    296\u001b[0m         \u001b[0maxis\u001b[0m\u001b[0;34m=\u001b[0m\u001b[0maxis\u001b[0m\u001b[0;34m,\u001b[0m\u001b[0;34m\u001b[0m\u001b[0;34m\u001b[0m\u001b[0m\n",
      "\u001b[0;32m~/anaconda3/envs/tensor-gpu/lib/python3.8/site-packages/pandas/core/reshape/concat.py\u001b[0m in \u001b[0;36m__init__\u001b[0;34m(self, objs, axis, join, keys, levels, names, ignore_index, verify_integrity, copy, sort)\u001b[0m\n\u001b[1;32m    349\u001b[0m \u001b[0;34m\u001b[0m\u001b[0m\n\u001b[1;32m    350\u001b[0m         \u001b[0;32mif\u001b[0m \u001b[0mlen\u001b[0m\u001b[0;34m(\u001b[0m\u001b[0mobjs\u001b[0m\u001b[0;34m)\u001b[0m \u001b[0;34m==\u001b[0m \u001b[0;36m0\u001b[0m\u001b[0;34m:\u001b[0m\u001b[0;34m\u001b[0m\u001b[0;34m\u001b[0m\u001b[0m\n\u001b[0;32m--> 351\u001b[0;31m             \u001b[0;32mraise\u001b[0m \u001b[0mValueError\u001b[0m\u001b[0;34m(\u001b[0m\u001b[0;34m\"No objects to concatenate\"\u001b[0m\u001b[0;34m)\u001b[0m\u001b[0;34m\u001b[0m\u001b[0;34m\u001b[0m\u001b[0m\n\u001b[0m\u001b[1;32m    352\u001b[0m \u001b[0;34m\u001b[0m\u001b[0m\n\u001b[1;32m    353\u001b[0m         \u001b[0;32mif\u001b[0m \u001b[0mkeys\u001b[0m \u001b[0;32mis\u001b[0m \u001b[0;32mNone\u001b[0m\u001b[0;34m:\u001b[0m\u001b[0;34m\u001b[0m\u001b[0;34m\u001b[0m\u001b[0m\n",
      "\u001b[0;31mValueError\u001b[0m: No objects to concatenate"
     ]
    }
   ],
   "source": [
    "for dataset in [\"mhealth\",\"pamap2\", \"skoda\"]:\n",
    "    print(dataset)\n",
    "    results = []\n",
    "    for i in range(1,6):\n",
    "        try:\n",
    "            results.append(pd.read_csv(\"{:s}_TTC_STCN5_0.3_0.0001_w1024_new_0.01_{:d}.csv\".format(dataset, i)))\n",
    "        except:\n",
    "            print(i)\n",
    "            pass\n",
    "    try:\n",
    "        results = pd.concat(results, axis = 0)\n",
    "    except TypeError:\n",
    "        results = np.stack(results, axis = 0)\n",
    "        results = results.astype(float)\n",
    "    print(results.mean(axis = 0))\n",
    "    print(results.std(axis = 0))"
   ]
  },
  {
   "cell_type": "code",
   "execution_count": null,
   "id": "7d1cba25-b50d-4d10-bf22-3e1390cf5731",
   "metadata": {},
   "outputs": [],
   "source": []
  },
  {
   "cell_type": "code",
   "execution_count": 120,
   "id": "cfc948c7-d6b3-4b7b-9ab9-a2bed74c2572",
   "metadata": {},
   "outputs": [
    {
     "name": "stdout",
     "output_type": "stream",
     "text": [
      "skoda\n",
      "[0.79313748 0.79311414 0.65866692 0.68208265 0.70516623]\n",
      "[0.02432639 0.02432917 0.04822614 0.06095064 0.05984397]\n"
     ]
    }
   ],
   "source": [
    "for dataset in [\"skoda\"]:\n",
    "    print(dataset)\n",
    "    results = []\n",
    "    for i in range(1,6):\n",
    "        try:\n",
    "            results.append(pd.read_csv(\"{:s}_TTC_STCN5_0.3_0.0001_w1024_0.01_{:d}.csv\".format(dataset, i)).values[-1])\n",
    "        except:\n",
    "            print(i)\n",
    "            pass\n",
    "    try:\n",
    "        results = pd.concat(results, axis = 0)\n",
    "    except TypeError:\n",
    "        results = np.stack(results, axis = 0)\n",
    "        results = results.astype(float)\n",
    "    print(results.mean(axis = 0))\n",
    "    print(results.std(axis = 0)) "
   ]
  },
  {
   "cell_type": "code",
   "execution_count": 111,
   "id": "4639ba85-f5f5-49ff-bfd8-5f929bc651ba",
   "metadata": {},
   "outputs": [
    {
     "name": "stdout",
     "output_type": "stream",
     "text": [
      "skoda\n",
      "[0.73907589 0.73904633 0.58597574 0.63746903 0.66313976]\n",
      "[0.05851962 0.05852644 0.07737389 0.07454951 0.06490047]\n"
     ]
    }
   ],
   "source": [
    "for dataset in [\"skoda\"]:\n",
    "    print(dataset)\n",
    "    results = []\n",
    "    for i in range(1,6):\n",
    "        try:\n",
    "            results.append(pd.read_csv(\"{:s}_TTC_STCN5_0.3_0.0001_w1024_new_0.01_noPseudo_{:d}.csv\".format(dataset, i)).values[-1])\n",
    "        except:\n",
    "            print(i)\n",
    "            pass\n",
    "    try:\n",
    "        results = pd.concat(results, axis = 0)\n",
    "    except TypeError:\n",
    "        results = np.stack(results, axis = 0)\n",
    "        results = results.astype(float)\n",
    "    print(results.mean(axis = 0))\n",
    "    print(results.std(axis = 0)) "
   ]
  },
  {
   "cell_type": "code",
   "execution_count": 112,
   "id": "436b8784-317d-499e-a8a1-781ad5a11a8c",
   "metadata": {},
   "outputs": [
    {
     "name": "stdout",
     "output_type": "stream",
     "text": [
      "mhealth\n",
      "[[0.90859532 0.90853145 0.85699967 0.88123423 0.90237107]\n",
      " [0.82790928 0.82778254 0.64766759 0.66804739 0.71640985]\n",
      " [0.90289037 0.90282224 0.85317857 0.89837907 0.91394212]\n",
      " [0.87194647 0.87185577 0.76580847 0.80627577 0.82833911]\n",
      " [0.81494649 0.81481177 0.66793188 0.63451306 0.68738273]]\n",
      "[0.86525758 0.86516076 0.75831724 0.7776899  0.80968897]\n",
      "[0.03811884 0.03814808 0.08855041 0.10828254 0.09323769]\n"
     ]
    }
   ],
   "source": [
    "for dataset in [\"mhealth\"]:\n",
    "    print(dataset)\n",
    "    results = []\n",
    "    for i in range(1,6):\n",
    "        try:\n",
    "            results.append(pd.read_csv(\"{:s}_TTC_STCN5_0.3_0.0001_w1024_new2_0.01_{:d}.csv\".format(dataset, i)).values[-1])\n",
    "            # results.append(pd.read_csv(\"{:s}_TTC_STCN5_0.3_0.0001_w1024_new_0.01_{:d}.csv\".format(dataset, i)).values[-1])\n",
    "        except:\n",
    "            print(i)\n",
    "            pass\n",
    "    try:\n",
    "        results = pd.concat(results, axis = 0)\n",
    "    except TypeError:\n",
    "        results = np.stack(results, axis = 0)\n",
    "        results = results.astype(float)\n",
    "    print(results)\n",
    "    print(results.mean(axis = 0))\n",
    "    print(results.std(axis = 0)) "
   ]
  },
  {
   "cell_type": "code",
   "execution_count": 115,
   "id": "a731cbbf-0e52-4118-9f04-97b87ada9c64",
   "metadata": {
    "tags": []
   },
   "outputs": [
    {
     "name": "stdout",
     "output_type": "stream",
     "text": [
      "mhealth\n",
      "[0.87310134 0.87301042 0.77816044 0.77520542 0.82597373]\n",
      "[0.02356319 0.0235801  0.05009462 0.05391615 0.0618786 ]\n"
     ]
    }
   ],
   "source": [
    "for dataset in [\"mhealth\"]:\n",
    "    print(dataset)\n",
    "    results = []\n",
    "    for i in range(1,6):\n",
    "        try:\n",
    "            results.append(pd.read_csv(\"{:s}_TTC_STCN5_0.3_0.0001_w1024_new_0.01_noPseudo_{:d}.csv\".format(dataset, i)).values[-1])\n",
    "        except:\n",
    "            print(i)\n",
    "            pass\n",
    "    try:\n",
    "        results = pd.concat(results, axis = 0)\n",
    "    except TypeError:\n",
    "        results = np.stack(results, axis = 0)\n",
    "        results = results.astype(float)\n",
    "    print(results.mean(axis = 0))\n",
    "    print(results.std(axis = 0))"
   ]
  },
  {
   "cell_type": "code",
   "execution_count": 135,
   "id": "011d752d-3ccd-49be-9184-236cbcb1ceed",
   "metadata": {},
   "outputs": [
    {
     "name": "stdout",
     "output_type": "stream",
     "text": [
      "pamap2\n",
      "4\n",
      "5\n",
      "[[0.78644479 0.78634147 0.65434506 0.64948182 0.71633586]\n",
      " [0.83010373 0.83002184 0.72312636 0.68235656 0.75678491]\n",
      " [0.8312062  0.83112429 0.70184356 0.6663659  0.74189379]\n",
      " [0.83278699 0.83270579 0.71005403 0.65877106 0.7403121 ]\n",
      " [0.83305812 0.83297711 0.71506365 0.67479155 0.76033409]\n",
      " [0.81045198 0.81036005 0.67499284 0.65462021 0.728893  ]\n",
      " [0.82461482 0.82452979 0.69340502 0.66121617 0.73992632]]\n",
      "[0.82123809 0.82115148 0.69611865 0.66394332 0.74064001]\n",
      "[0.01598825 0.01599595 0.02240534 0.01064254 0.01403764]\n"
     ]
    }
   ],
   "source": [
    "for dataset in [\"pamap2\"]:\n",
    "    print(dataset)\n",
    "    results = []\n",
    "    for i in range(1,6):\n",
    "        try:\n",
    "            results.append(pd.read_csv(\"{:s}_TTC_STCN5_0.3_0.0001_w1024_new_0.01_{:d}.csv\".format(dataset, i)).values[-1])\n",
    "            results.append(pd.read_csv(\"{:s}_TTC_STCN5_0.3_0.0001_w1024_new_0.01_{:d}.csv\".format(dataset, i)).values[-3])\n",
    "        except:\n",
    "            print(i)\n",
    "            pass\n",
    "    try:\n",
    "        results = pd.concat(results, axis = 0)\n",
    "    except TypeError:\n",
    "        results = np.stack(results, axis = 0)\n",
    "        results = results.astype(float)\n",
    "    print(results)\n",
    "    print(results.mean(axis = 0))\n",
    "    print(results.std(axis = 0))"
   ]
  },
  {
   "cell_type": "code",
   "execution_count": 136,
   "id": "4e081bca-5557-40be-8fa3-1aa8d8c61096",
   "metadata": {},
   "outputs": [
    {
     "name": "stdout",
     "output_type": "stream",
     "text": [
      "pamap2\n",
      "4\n",
      "5\n",
      "[[0.80828884 0.80819567 0.68085738 0.68343527 0.75088247]\n",
      " [0.80105552 0.80095917 0.67051529 0.6393788  0.72111953]\n",
      " [0.84515295 0.84507791 0.7279265  0.66985684 0.75074745]]\n",
      "[0.81816577 0.81807759 0.69309972 0.66422364 0.74091649]\n",
      "[0.01930995 0.01931933 0.02498557 0.01842178 0.01399867]\n"
     ]
    }
   ],
   "source": [
    "for dataset in [\"pamap2\"]:\n",
    "    print(dataset)\n",
    "    results = []\n",
    "    for i in range(1,6):\n",
    "        try:\n",
    "            results.append(pd.read_csv(\"{:s}_TTC_STCN5_0.3_0.0001_w1024_new_0.01_noPseudo_{:d}.csv\".format(dataset, i)).values[-1])\n",
    "        except:\n",
    "            print(i)\n",
    "            pass\n",
    "    try:\n",
    "        results = pd.concat(results, axis = 0)\n",
    "    except TypeError:\n",
    "        results = np.stack(results, axis = 0)\n",
    "        results = results.astype(float)\n",
    "    print(results)\n",
    "    print(results.mean(axis = 0))\n",
    "    print(results.std(axis = 0))"
   ]
  },
  {
   "cell_type": "code",
   "execution_count": 143,
   "id": "d65f6892-ad22-4b8c-ac6f-7585e3d125c8",
   "metadata": {
    "collapsed": true,
    "jupyter": {
     "outputs_hidden": true
    },
    "tags": []
   },
   "outputs": [
    {
     "name": "stdout",
     "output_type": "stream",
     "text": [
      "mhealth\n",
      "[0.91879997 0.91874268 0.85267575 0.83847759 0.87420254]\n",
      "[0.01690083 0.01691318 0.04243547 0.06814882 0.05162432]\n",
      "[0.90671902 0.90665432 0.83091126 0.81650473 0.85692841]\n",
      "[0.01750516 0.01751659 0.03761804 0.04016483 0.03147305]\n",
      "pamap2\n",
      "[0.83943302 0.83935536 0.72529224 0.67413207 0.75036938]\n",
      "[0.01756663 0.01757557 0.03749678 0.02074573 0.01651784]\n",
      "[0.82868477 0.82860199 0.7119853  0.66936568 0.7467932 ]\n",
      "[0.01098888 0.01099427 0.02394993 0.01734459 0.01822397]\n",
      "skoda\n",
      "1\n",
      "2\n",
      "3\n",
      "4\n",
      "5\n"
     ]
    },
    {
     "ename": "ValueError",
     "evalue": "No objects to concatenate",
     "output_type": "error",
     "traceback": [
      "\u001b[0;31m---------------------------------------------------------------------------\u001b[0m",
      "\u001b[0;31mValueError\u001b[0m                                Traceback (most recent call last)",
      "\u001b[0;32m<ipython-input-143-a5a7f317d231>\u001b[0m in \u001b[0;36m<module>\u001b[0;34m\u001b[0m\n\u001b[1;32m     11\u001b[0m             \u001b[0;32mpass\u001b[0m\u001b[0;34m\u001b[0m\u001b[0;34m\u001b[0m\u001b[0m\n\u001b[1;32m     12\u001b[0m     \u001b[0;32mtry\u001b[0m\u001b[0;34m:\u001b[0m\u001b[0;34m\u001b[0m\u001b[0;34m\u001b[0m\u001b[0m\n\u001b[0;32m---> 13\u001b[0;31m         \u001b[0mresults\u001b[0m \u001b[0;34m=\u001b[0m \u001b[0mpd\u001b[0m\u001b[0;34m.\u001b[0m\u001b[0mconcat\u001b[0m\u001b[0;34m(\u001b[0m\u001b[0mresults\u001b[0m\u001b[0;34m,\u001b[0m \u001b[0maxis\u001b[0m \u001b[0;34m=\u001b[0m \u001b[0;36m0\u001b[0m\u001b[0;34m)\u001b[0m\u001b[0;34m\u001b[0m\u001b[0;34m\u001b[0m\u001b[0m\n\u001b[0m\u001b[1;32m     14\u001b[0m         \u001b[0mresults_noPseudo\u001b[0m \u001b[0;34m=\u001b[0m \u001b[0mpd\u001b[0m\u001b[0;34m.\u001b[0m\u001b[0mconcat\u001b[0m\u001b[0;34m(\u001b[0m\u001b[0mresults_noPseudo\u001b[0m\u001b[0;34m,\u001b[0m \u001b[0maxis\u001b[0m \u001b[0;34m=\u001b[0m \u001b[0;36m0\u001b[0m\u001b[0;34m)\u001b[0m\u001b[0;34m\u001b[0m\u001b[0;34m\u001b[0m\u001b[0m\n\u001b[1;32m     15\u001b[0m     \u001b[0;32mexcept\u001b[0m \u001b[0mTypeError\u001b[0m\u001b[0;34m:\u001b[0m\u001b[0;34m\u001b[0m\u001b[0;34m\u001b[0m\u001b[0m\n",
      "\u001b[0;32m~/anaconda3/envs/tensor-gpu/lib/python3.8/site-packages/pandas/util/_decorators.py\u001b[0m in \u001b[0;36mwrapper\u001b[0;34m(*args, **kwargs)\u001b[0m\n\u001b[1;32m    309\u001b[0m                     \u001b[0mstacklevel\u001b[0m\u001b[0;34m=\u001b[0m\u001b[0mstacklevel\u001b[0m\u001b[0;34m,\u001b[0m\u001b[0;34m\u001b[0m\u001b[0;34m\u001b[0m\u001b[0m\n\u001b[1;32m    310\u001b[0m                 )\n\u001b[0;32m--> 311\u001b[0;31m             \u001b[0;32mreturn\u001b[0m \u001b[0mfunc\u001b[0m\u001b[0;34m(\u001b[0m\u001b[0;34m*\u001b[0m\u001b[0margs\u001b[0m\u001b[0;34m,\u001b[0m \u001b[0;34m**\u001b[0m\u001b[0mkwargs\u001b[0m\u001b[0;34m)\u001b[0m\u001b[0;34m\u001b[0m\u001b[0;34m\u001b[0m\u001b[0m\n\u001b[0m\u001b[1;32m    312\u001b[0m \u001b[0;34m\u001b[0m\u001b[0m\n\u001b[1;32m    313\u001b[0m         \u001b[0;32mreturn\u001b[0m \u001b[0mwrapper\u001b[0m\u001b[0;34m\u001b[0m\u001b[0;34m\u001b[0m\u001b[0m\n",
      "\u001b[0;32m~/anaconda3/envs/tensor-gpu/lib/python3.8/site-packages/pandas/core/reshape/concat.py\u001b[0m in \u001b[0;36mconcat\u001b[0;34m(objs, axis, join, ignore_index, keys, levels, names, verify_integrity, sort, copy)\u001b[0m\n\u001b[1;32m    292\u001b[0m     \u001b[0mValueError\u001b[0m\u001b[0;34m:\u001b[0m \u001b[0mIndexes\u001b[0m \u001b[0mhave\u001b[0m \u001b[0moverlapping\u001b[0m \u001b[0mvalues\u001b[0m\u001b[0;34m:\u001b[0m \u001b[0;34m[\u001b[0m\u001b[0;34m'a'\u001b[0m\u001b[0;34m]\u001b[0m\u001b[0;34m\u001b[0m\u001b[0;34m\u001b[0m\u001b[0m\n\u001b[1;32m    293\u001b[0m     \"\"\"\n\u001b[0;32m--> 294\u001b[0;31m     op = _Concatenator(\n\u001b[0m\u001b[1;32m    295\u001b[0m         \u001b[0mobjs\u001b[0m\u001b[0;34m,\u001b[0m\u001b[0;34m\u001b[0m\u001b[0;34m\u001b[0m\u001b[0m\n\u001b[1;32m    296\u001b[0m         \u001b[0maxis\u001b[0m\u001b[0;34m=\u001b[0m\u001b[0maxis\u001b[0m\u001b[0;34m,\u001b[0m\u001b[0;34m\u001b[0m\u001b[0;34m\u001b[0m\u001b[0m\n",
      "\u001b[0;32m~/anaconda3/envs/tensor-gpu/lib/python3.8/site-packages/pandas/core/reshape/concat.py\u001b[0m in \u001b[0;36m__init__\u001b[0;34m(self, objs, axis, join, keys, levels, names, ignore_index, verify_integrity, copy, sort)\u001b[0m\n\u001b[1;32m    349\u001b[0m \u001b[0;34m\u001b[0m\u001b[0m\n\u001b[1;32m    350\u001b[0m         \u001b[0;32mif\u001b[0m \u001b[0mlen\u001b[0m\u001b[0;34m(\u001b[0m\u001b[0mobjs\u001b[0m\u001b[0;34m)\u001b[0m \u001b[0;34m==\u001b[0m \u001b[0;36m0\u001b[0m\u001b[0;34m:\u001b[0m\u001b[0;34m\u001b[0m\u001b[0;34m\u001b[0m\u001b[0m\n\u001b[0;32m--> 351\u001b[0;31m             \u001b[0;32mraise\u001b[0m \u001b[0mValueError\u001b[0m\u001b[0;34m(\u001b[0m\u001b[0;34m\"No objects to concatenate\"\u001b[0m\u001b[0;34m)\u001b[0m\u001b[0;34m\u001b[0m\u001b[0;34m\u001b[0m\u001b[0m\n\u001b[0m\u001b[1;32m    352\u001b[0m \u001b[0;34m\u001b[0m\u001b[0m\n\u001b[1;32m    353\u001b[0m         \u001b[0;32mif\u001b[0m \u001b[0mkeys\u001b[0m \u001b[0;32mis\u001b[0m \u001b[0;32mNone\u001b[0m\u001b[0;34m:\u001b[0m\u001b[0;34m\u001b[0m\u001b[0;34m\u001b[0m\u001b[0m\n",
      "\u001b[0;31mValueError\u001b[0m: No objects to concatenate"
     ]
    }
   ],
   "source": [
    "for dataset in [\"mhealth\",\"pamap2\", \"skoda\"]:\n",
    "    print(dataset)\n",
    "    results = []\n",
    "    results_noPseudo = []\n",
    "    for i in range(1,6):\n",
    "        try:\n",
    "            results.append(pd.read_csv(\"{:s}_TTC_MaxPool_w2048_{:d}.csv\".format(dataset, i)).values[-1])\n",
    "            results_noPseudo.append(pd.read_csv(\"{:s}_TTC_MaxPool_w2048_noPseudo_{:d}.csv\".format(dataset, i)).values[-1])\n",
    "        except:\n",
    "            print(i)\n",
    "            pass\n",
    "    try:\n",
    "        results = pd.concat(results, axis = 0)\n",
    "        results_noPseudo = pd.concat(results_noPseudo, axis = 0)\n",
    "    except TypeError:\n",
    "        results = np.stack(results, axis = 0)\n",
    "        results = results.astype(float)\n",
    "        results_noPseudo = np.stack(results_noPseudo, axis = 0)\n",
    "        results_noPseudo = results_noPseudo.astype(float)\n",
    "    print(results.mean(axis = 0))\n",
    "    print(results.std(axis = 0))\n",
    "    print(results_noPseudo.mean(axis = 0))\n",
    "    print(results_noPseudo.std(axis = 0))"
   ]
  },
  {
   "cell_type": "code",
   "execution_count": 154,
   "id": "b0363b41-8d78-486d-9197-c4eb2e40f2e3",
   "metadata": {},
   "outputs": [
    {
     "name": "stdout",
     "output_type": "stream",
     "text": [
      "mhealth\n",
      "Original\n",
      "[[0.92862641 0.92857657 0.87994791 0.85122697 0.88940695]\n",
      " [0.94232103 0.94228066 0.90234782 0.93162345 0.93876159]\n",
      " [0.91464473 0.91458443 0.84052602 0.84952191 0.86308068]\n",
      " [0.89126107 0.89118352 0.77817161 0.71908489 0.78310684]\n",
      " [0.91714659 0.9170882  0.86238537 0.84093072 0.89665662]\n",
      " [0.93423176 0.93418518 0.87098178 0.8566957  0.88497185]\n",
      " [0.94505611 0.94501715 0.88687474 0.87326971 0.89520669]\n",
      " [0.91617367 0.91611458 0.8523612  0.83088069 0.88556889]\n",
      " [0.93263137 0.93258418 0.88814576 0.86078497 0.90464548]]\n",
      "[0.92467697 0.92462383 0.8624158  0.84600211 0.8823784 ]\n",
      "[0.01578701 0.01579838 0.03482165 0.0525034  0.03991222]\n",
      "pamap2\n",
      "Original\n",
      "[[0.86484584 0.86478086 0.77687473 0.69598707 0.76924561]\n",
      " [0.82741192 0.82732802 0.68916365 0.64804577 0.72898945]\n",
      " [0.81673484 0.81664534 0.68000331 0.65265601 0.7368015 ]\n",
      " [0.85393769 0.85386753 0.75706    0.697039   0.76930347]\n",
      " [0.8342348  0.83415506 0.72335949 0.67693251 0.7475069 ]\n",
      " [0.82769866 0.82761495 0.69929506 0.63956381 0.72314488]\n",
      " [0.81894407 0.81885614 0.70179582 0.74243043 0.78149413]\n",
      " [0.82757472 0.82749104 0.68853608 0.63744683 0.71695311]\n",
      " [0.83063932 0.83055744 0.71371537 0.64590582 0.73001177]]\n",
      "[0.83355798 0.83347737 0.71442261 0.67066747 0.74482787]\n",
      "[0.01493589 0.01494348 0.03105493 0.03341    0.02193126]\n",
      "skoda\n",
      "Original\n",
      "[[0.78288394 0.78285971 0.63598736 0.72065253 0.72157738]\n",
      " [0.84837722 0.84836013 0.703758   0.88227984 0.85058036]\n",
      " [0.83845532 0.83843707 0.68688203 0.86848718 0.83473984]\n",
      " [0.83162752 0.83160809 0.66556693 0.74491713 0.78828357]\n",
      " [0.86906791 0.86905325 0.75458507 0.90820721 0.89315523]\n",
      " [0.8215634  0.82154337 0.68532391 0.87629341 0.85383183]\n",
      " [0.81844245 0.81842128 0.64458666 0.72111024 0.75053496]\n",
      " [0.83371942 0.83370072 0.67009358 0.75393059 0.74711675]\n",
      " [0.843861   0.84384345 0.7024502  0.88064806 0.85532325]]\n",
      "[0.8319998  0.83198079 0.68324819 0.8173918  0.81057146]\n",
      "[0.02244205 0.02244458 0.03351584 0.07486871 0.0566928 ]\n"
     ]
    }
   ],
   "source": [
    "for dataset in [\"mhealth\",\"pamap2\", \"skoda\"]:\n",
    "    print(dataset)\n",
    "    results = []\n",
    "    results_noPseudo = []\n",
    "    results_noICC = []\n",
    "    for i in range(1,10):\n",
    "        try:\n",
    "            results.append(pd.read_csv(\"{:s}_TTC_MaxPool_w2048_{:d}.csv\".format(dataset, i)).values[-1])\n",
    "            # results_noPseudo.append(pd.read_csv(\"{:s}_TTC_MaxPool_w2048_noPseudo_{:d}.csv\".format(dataset, i)).values[-1])\n",
    "            # results_noICC.append(pd.read_csv(\"{:s}_TTC_MaxPool_w2048_noICC_{:d}.csv\".format(dataset, i)).values[-1])\n",
    "        except FileNotFoundError:\n",
    "            results.append(pd.read_csv(\"{:s}_TTC_maxpool_w2048_{:d}.csv\".format(dataset, i)).values[-1])\n",
    "            # results_noPseudo.append(pd.read_csv(\"{:s}_TTC_MaxPooling_w2048_noPseudo_{:d}.csv\".format(dataset, i)).values[-1])\n",
    "            # results_noICC.append(pd.read_csv(\"{:s}_TTC_MaxPooling_w2048_noICC_{:d}.csv\".format(dataset, i)).values[-1])\n",
    "    try:\n",
    "        results = pd.concat(results, axis = 0)\n",
    "        # results_noPseudo = pd.concat(results_noPseudo, axis = 0)\n",
    "        # results_noICC = pd.concat(results_noICC, axis = 0)\n",
    "    except TypeError:\n",
    "        results = np.stack(results, axis = 0)\n",
    "        results = results.astype(float)\n",
    "        # results_noPseudo = np.stack(results_noPseudo, axis = 0)\n",
    "        # results_noPseudo = results_noPseudo.astype(float)\n",
    "        # results_noICC = np.stack(results_noICC, axis = 0)\n",
    "        # results_noICC = results_noICC.astype(float)\n",
    "    print(\"Original\")\n",
    "    print(results)\n",
    "    print(results.mean(axis = 0))\n",
    "    print(results.std(axis = 0))\n",
    "    # print(\"Original_noPseudo\")\n",
    "    # print(results_noPseudo)\n",
    "    # print(results_noPseudo.mean(axis = 0))\n",
    "    # print(results_noPseudo.std(axis = 0))\n",
    "    # print(\"Original_noICC\")\n",
    "    # print(results_noICC)\n",
    "    # print(results_noICC.mean(axis = 0))\n",
    "    # print(results_noICC.std(axis = 0))"
   ]
  },
  {
   "cell_type": "code",
   "execution_count": 176,
   "id": "a9a89695-27e3-4c4c-a2bc-7e5904a2a910",
   "metadata": {
    "collapsed": true,
    "jupyter": {
     "outputs_hidden": true
    },
    "tags": []
   },
   "outputs": [
    {
     "name": "stdout",
     "output_type": "stream",
     "text": [
      "mhealth\n"
     ]
    },
    {
     "ename": "FileNotFoundError",
     "evalue": "[Errno 2] No such file or directory: 'mhealth_TTC_maxpool_w2048_p2_1.csv'",
     "output_type": "error",
     "traceback": [
      "\u001b[0;31m---------------------------------------------------------------------------\u001b[0m",
      "\u001b[0;31mFileNotFoundError\u001b[0m                         Traceback (most recent call last)",
      "\u001b[0;32m<ipython-input-202-1e74370aed53>\u001b[0m in \u001b[0;36m<module>\u001b[0;34m\u001b[0m\n\u001b[1;32m      8\u001b[0m         \u001b[0;32mtry\u001b[0m\u001b[0;34m:\u001b[0m\u001b[0;34m\u001b[0m\u001b[0;34m\u001b[0m\u001b[0m\n\u001b[0;32m----> 9\u001b[0;31m             \u001b[0mresults\u001b[0m\u001b[0;34m.\u001b[0m\u001b[0mappend\u001b[0m\u001b[0;34m(\u001b[0m\u001b[0mpd\u001b[0m\u001b[0;34m.\u001b[0m\u001b[0mread_csv\u001b[0m\u001b[0;34m(\u001b[0m\u001b[0;34m\"{:s}_TTC_MaxPooling_w2048_saveResults_{:d}.csv\"\u001b[0m\u001b[0;34m.\u001b[0m\u001b[0mformat\u001b[0m\u001b[0;34m(\u001b[0m\u001b[0mdataset\u001b[0m\u001b[0;34m,\u001b[0m \u001b[0mi\u001b[0m\u001b[0;34m)\u001b[0m\u001b[0;34m)\u001b[0m\u001b[0;34m.\u001b[0m\u001b[0mvalues\u001b[0m\u001b[0;34m[\u001b[0m\u001b[0;34m-\u001b[0m\u001b[0;36m1\u001b[0m\u001b[0;34m]\u001b[0m\u001b[0;34m)\u001b[0m\u001b[0;34m\u001b[0m\u001b[0;34m\u001b[0m\u001b[0m\n\u001b[0m\u001b[1;32m     10\u001b[0m             \u001b[0mresults_noPseudo\u001b[0m\u001b[0;34m.\u001b[0m\u001b[0mappend\u001b[0m\u001b[0;34m(\u001b[0m\u001b[0mpd\u001b[0m\u001b[0;34m.\u001b[0m\u001b[0mread_csv\u001b[0m\u001b[0;34m(\u001b[0m\u001b[0;34m\"{:s}_TTC_MaxPool_w2048_saveResults_noPseudo_{:d}.csv\"\u001b[0m\u001b[0;34m.\u001b[0m\u001b[0mformat\u001b[0m\u001b[0;34m(\u001b[0m\u001b[0mdataset\u001b[0m\u001b[0;34m,\u001b[0m \u001b[0mi\u001b[0m\u001b[0;34m)\u001b[0m\u001b[0;34m)\u001b[0m\u001b[0;34m.\u001b[0m\u001b[0mvalues\u001b[0m\u001b[0;34m[\u001b[0m\u001b[0;34m-\u001b[0m\u001b[0;36m1\u001b[0m\u001b[0;34m]\u001b[0m\u001b[0;34m)\u001b[0m\u001b[0;34m\u001b[0m\u001b[0;34m\u001b[0m\u001b[0m\n",
      "\u001b[0;32m~/anaconda3/envs/tensor-gpu/lib/python3.8/site-packages/pandas/util/_decorators.py\u001b[0m in \u001b[0;36mwrapper\u001b[0;34m(*args, **kwargs)\u001b[0m\n\u001b[1;32m    310\u001b[0m                 )\n\u001b[0;32m--> 311\u001b[0;31m             \u001b[0;32mreturn\u001b[0m \u001b[0mfunc\u001b[0m\u001b[0;34m(\u001b[0m\u001b[0;34m*\u001b[0m\u001b[0margs\u001b[0m\u001b[0;34m,\u001b[0m \u001b[0;34m**\u001b[0m\u001b[0mkwargs\u001b[0m\u001b[0;34m)\u001b[0m\u001b[0;34m\u001b[0m\u001b[0;34m\u001b[0m\u001b[0m\n\u001b[0m\u001b[1;32m    312\u001b[0m \u001b[0;34m\u001b[0m\u001b[0m\n",
      "\u001b[0;32m~/anaconda3/envs/tensor-gpu/lib/python3.8/site-packages/pandas/io/parsers/readers.py\u001b[0m in \u001b[0;36mread_csv\u001b[0;34m(filepath_or_buffer, sep, delimiter, header, names, index_col, usecols, squeeze, prefix, mangle_dupe_cols, dtype, engine, converters, true_values, false_values, skipinitialspace, skiprows, skipfooter, nrows, na_values, keep_default_na, na_filter, verbose, skip_blank_lines, parse_dates, infer_datetime_format, keep_date_col, date_parser, dayfirst, cache_dates, iterator, chunksize, compression, thousands, decimal, lineterminator, quotechar, quoting, doublequote, escapechar, comment, encoding, encoding_errors, dialect, error_bad_lines, warn_bad_lines, on_bad_lines, delim_whitespace, low_memory, memory_map, float_precision, storage_options)\u001b[0m\n\u001b[1;32m    585\u001b[0m \u001b[0;34m\u001b[0m\u001b[0m\n\u001b[0;32m--> 586\u001b[0;31m     \u001b[0;32mreturn\u001b[0m \u001b[0m_read\u001b[0m\u001b[0;34m(\u001b[0m\u001b[0mfilepath_or_buffer\u001b[0m\u001b[0;34m,\u001b[0m \u001b[0mkwds\u001b[0m\u001b[0;34m)\u001b[0m\u001b[0;34m\u001b[0m\u001b[0;34m\u001b[0m\u001b[0m\n\u001b[0m\u001b[1;32m    587\u001b[0m \u001b[0;34m\u001b[0m\u001b[0m\n",
      "\u001b[0;32m~/anaconda3/envs/tensor-gpu/lib/python3.8/site-packages/pandas/io/parsers/readers.py\u001b[0m in \u001b[0;36m_read\u001b[0;34m(filepath_or_buffer, kwds)\u001b[0m\n\u001b[1;32m    481\u001b[0m     \u001b[0;31m# Create the parser.\u001b[0m\u001b[0;34m\u001b[0m\u001b[0;34m\u001b[0m\u001b[0;34m\u001b[0m\u001b[0m\n\u001b[0;32m--> 482\u001b[0;31m     \u001b[0mparser\u001b[0m \u001b[0;34m=\u001b[0m \u001b[0mTextFileReader\u001b[0m\u001b[0;34m(\u001b[0m\u001b[0mfilepath_or_buffer\u001b[0m\u001b[0;34m,\u001b[0m \u001b[0;34m**\u001b[0m\u001b[0mkwds\u001b[0m\u001b[0;34m)\u001b[0m\u001b[0;34m\u001b[0m\u001b[0;34m\u001b[0m\u001b[0m\n\u001b[0m\u001b[1;32m    483\u001b[0m \u001b[0;34m\u001b[0m\u001b[0m\n",
      "\u001b[0;32m~/anaconda3/envs/tensor-gpu/lib/python3.8/site-packages/pandas/io/parsers/readers.py\u001b[0m in \u001b[0;36m__init__\u001b[0;34m(self, f, engine, **kwds)\u001b[0m\n\u001b[1;32m    810\u001b[0m \u001b[0;34m\u001b[0m\u001b[0m\n\u001b[0;32m--> 811\u001b[0;31m         \u001b[0mself\u001b[0m\u001b[0;34m.\u001b[0m\u001b[0m_engine\u001b[0m \u001b[0;34m=\u001b[0m \u001b[0mself\u001b[0m\u001b[0;34m.\u001b[0m\u001b[0m_make_engine\u001b[0m\u001b[0;34m(\u001b[0m\u001b[0mself\u001b[0m\u001b[0;34m.\u001b[0m\u001b[0mengine\u001b[0m\u001b[0;34m)\u001b[0m\u001b[0;34m\u001b[0m\u001b[0;34m\u001b[0m\u001b[0m\n\u001b[0m\u001b[1;32m    812\u001b[0m \u001b[0;34m\u001b[0m\u001b[0m\n",
      "\u001b[0;32m~/anaconda3/envs/tensor-gpu/lib/python3.8/site-packages/pandas/io/parsers/readers.py\u001b[0m in \u001b[0;36m_make_engine\u001b[0;34m(self, engine)\u001b[0m\n\u001b[1;32m   1039\u001b[0m         \u001b[0;31m# error: Too many arguments for \"ParserBase\"\u001b[0m\u001b[0;34m\u001b[0m\u001b[0;34m\u001b[0m\u001b[0;34m\u001b[0m\u001b[0m\n\u001b[0;32m-> 1040\u001b[0;31m         \u001b[0;32mreturn\u001b[0m \u001b[0mmapping\u001b[0m\u001b[0;34m[\u001b[0m\u001b[0mengine\u001b[0m\u001b[0;34m]\u001b[0m\u001b[0;34m(\u001b[0m\u001b[0mself\u001b[0m\u001b[0;34m.\u001b[0m\u001b[0mf\u001b[0m\u001b[0;34m,\u001b[0m \u001b[0;34m**\u001b[0m\u001b[0mself\u001b[0m\u001b[0;34m.\u001b[0m\u001b[0moptions\u001b[0m\u001b[0;34m)\u001b[0m  \u001b[0;31m# type: ignore[call-arg]\u001b[0m\u001b[0;34m\u001b[0m\u001b[0;34m\u001b[0m\u001b[0m\n\u001b[0m\u001b[1;32m   1041\u001b[0m \u001b[0;34m\u001b[0m\u001b[0m\n",
      "\u001b[0;32m~/anaconda3/envs/tensor-gpu/lib/python3.8/site-packages/pandas/io/parsers/c_parser_wrapper.py\u001b[0m in \u001b[0;36m__init__\u001b[0;34m(self, src, **kwds)\u001b[0m\n\u001b[1;32m     50\u001b[0m         \u001b[0;31m# open handles\u001b[0m\u001b[0;34m\u001b[0m\u001b[0;34m\u001b[0m\u001b[0;34m\u001b[0m\u001b[0m\n\u001b[0;32m---> 51\u001b[0;31m         \u001b[0mself\u001b[0m\u001b[0;34m.\u001b[0m\u001b[0m_open_handles\u001b[0m\u001b[0;34m(\u001b[0m\u001b[0msrc\u001b[0m\u001b[0;34m,\u001b[0m \u001b[0mkwds\u001b[0m\u001b[0;34m)\u001b[0m\u001b[0;34m\u001b[0m\u001b[0;34m\u001b[0m\u001b[0m\n\u001b[0m\u001b[1;32m     52\u001b[0m         \u001b[0;32massert\u001b[0m \u001b[0mself\u001b[0m\u001b[0;34m.\u001b[0m\u001b[0mhandles\u001b[0m \u001b[0;32mis\u001b[0m \u001b[0;32mnot\u001b[0m \u001b[0;32mNone\u001b[0m\u001b[0;34m\u001b[0m\u001b[0;34m\u001b[0m\u001b[0m\n",
      "\u001b[0;32m~/anaconda3/envs/tensor-gpu/lib/python3.8/site-packages/pandas/io/parsers/base_parser.py\u001b[0m in \u001b[0;36m_open_handles\u001b[0;34m(self, src, kwds)\u001b[0m\n\u001b[1;32m    221\u001b[0m         \"\"\"\n\u001b[0;32m--> 222\u001b[0;31m         self.handles = get_handle(\n\u001b[0m\u001b[1;32m    223\u001b[0m             \u001b[0msrc\u001b[0m\u001b[0;34m,\u001b[0m\u001b[0;34m\u001b[0m\u001b[0;34m\u001b[0m\u001b[0m\n",
      "\u001b[0;32m~/anaconda3/envs/tensor-gpu/lib/python3.8/site-packages/pandas/io/common.py\u001b[0m in \u001b[0;36mget_handle\u001b[0;34m(path_or_buf, mode, encoding, compression, memory_map, is_text, errors, storage_options)\u001b[0m\n\u001b[1;32m    701\u001b[0m             \u001b[0;31m# Encoding\u001b[0m\u001b[0;34m\u001b[0m\u001b[0;34m\u001b[0m\u001b[0;34m\u001b[0m\u001b[0m\n\u001b[0;32m--> 702\u001b[0;31m             handle = open(\n\u001b[0m\u001b[1;32m    703\u001b[0m                 \u001b[0mhandle\u001b[0m\u001b[0;34m,\u001b[0m\u001b[0;34m\u001b[0m\u001b[0;34m\u001b[0m\u001b[0m\n",
      "\u001b[0;31mFileNotFoundError\u001b[0m: [Errno 2] No such file or directory: 'mhealth_TTC_MaxPooling_w2048_saveResults_1.csv'",
      "\nDuring handling of the above exception, another exception occurred:\n",
      "\u001b[0;31mFileNotFoundError\u001b[0m                         Traceback (most recent call last)",
      "\u001b[0;32m<ipython-input-202-1e74370aed53>\u001b[0m in \u001b[0;36m<module>\u001b[0;34m\u001b[0m\n\u001b[1;32m     17\u001b[0m         \u001b[0;31m#     # results_noICC_km.append(pd.read_csv(\"{:s}_TTC_MaxPooling_w2048_saveResults_km_noICC_{:d}.csv\".format(dataset, i)).values[-1])\u001b[0m\u001b[0;34m\u001b[0m\u001b[0;34m\u001b[0m\u001b[0;34m\u001b[0m\u001b[0m\n\u001b[1;32m     18\u001b[0m         \u001b[0;32mexcept\u001b[0m \u001b[0mFileNotFoundError\u001b[0m\u001b[0;34m:\u001b[0m\u001b[0;34m\u001b[0m\u001b[0;34m\u001b[0m\u001b[0m\n\u001b[0;32m---> 19\u001b[0;31m             \u001b[0mresults\u001b[0m\u001b[0;34m.\u001b[0m\u001b[0mappend\u001b[0m\u001b[0;34m(\u001b[0m\u001b[0mpd\u001b[0m\u001b[0;34m.\u001b[0m\u001b[0mread_csv\u001b[0m\u001b[0;34m(\u001b[0m\u001b[0;34m\"{:s}_TTC_maxpool_w2048_p2_{:d}.csv\"\u001b[0m\u001b[0;34m.\u001b[0m\u001b[0mformat\u001b[0m\u001b[0;34m(\u001b[0m\u001b[0mdataset\u001b[0m\u001b[0;34m,\u001b[0m \u001b[0mi\u001b[0m\u001b[0;34m)\u001b[0m\u001b[0;34m)\u001b[0m\u001b[0;34m.\u001b[0m\u001b[0mvalues\u001b[0m\u001b[0;34m[\u001b[0m\u001b[0;34m-\u001b[0m\u001b[0;36m1\u001b[0m\u001b[0;34m]\u001b[0m\u001b[0;34m)\u001b[0m\u001b[0;34m\u001b[0m\u001b[0;34m\u001b[0m\u001b[0m\n\u001b[0m\u001b[1;32m     20\u001b[0m             \u001b[0mresults_noPseudo\u001b[0m\u001b[0;34m.\u001b[0m\u001b[0mappend\u001b[0m\u001b[0;34m(\u001b[0m\u001b[0mpd\u001b[0m\u001b[0;34m.\u001b[0m\u001b[0mread_csv\u001b[0m\u001b[0;34m(\u001b[0m\u001b[0;34m\"{:s}_TTC_MaxPooling_w2048_p2_noPseudo_{:d}.csv\"\u001b[0m\u001b[0;34m.\u001b[0m\u001b[0mformat\u001b[0m\u001b[0;34m(\u001b[0m\u001b[0mdataset\u001b[0m\u001b[0;34m,\u001b[0m \u001b[0mi\u001b[0m\u001b[0;34m)\u001b[0m\u001b[0;34m)\u001b[0m\u001b[0;34m.\u001b[0m\u001b[0mvalues\u001b[0m\u001b[0;34m[\u001b[0m\u001b[0;34m-\u001b[0m\u001b[0;36m1\u001b[0m\u001b[0;34m]\u001b[0m\u001b[0;34m)\u001b[0m\u001b[0;34m\u001b[0m\u001b[0;34m\u001b[0m\u001b[0m\n\u001b[1;32m     21\u001b[0m             \u001b[0mresults_noICC\u001b[0m\u001b[0;34m.\u001b[0m\u001b[0mappend\u001b[0m\u001b[0;34m(\u001b[0m\u001b[0mpd\u001b[0m\u001b[0;34m.\u001b[0m\u001b[0mread_csv\u001b[0m\u001b[0;34m(\u001b[0m\u001b[0;34m\"{:s}_TTC_MaxPooling_w2048_saveResults_noICC_{:d}.csv\"\u001b[0m\u001b[0;34m.\u001b[0m\u001b[0mformat\u001b[0m\u001b[0;34m(\u001b[0m\u001b[0mdataset\u001b[0m\u001b[0;34m,\u001b[0m \u001b[0mi\u001b[0m\u001b[0;34m)\u001b[0m\u001b[0;34m)\u001b[0m\u001b[0;34m.\u001b[0m\u001b[0mvalues\u001b[0m\u001b[0;34m[\u001b[0m\u001b[0;34m-\u001b[0m\u001b[0;36m1\u001b[0m\u001b[0;34m]\u001b[0m\u001b[0;34m)\u001b[0m\u001b[0;34m\u001b[0m\u001b[0;34m\u001b[0m\u001b[0m\n",
      "\u001b[0;32m~/anaconda3/envs/tensor-gpu/lib/python3.8/site-packages/pandas/util/_decorators.py\u001b[0m in \u001b[0;36mwrapper\u001b[0;34m(*args, **kwargs)\u001b[0m\n\u001b[1;32m    309\u001b[0m                     \u001b[0mstacklevel\u001b[0m\u001b[0;34m=\u001b[0m\u001b[0mstacklevel\u001b[0m\u001b[0;34m,\u001b[0m\u001b[0;34m\u001b[0m\u001b[0;34m\u001b[0m\u001b[0m\n\u001b[1;32m    310\u001b[0m                 )\n\u001b[0;32m--> 311\u001b[0;31m             \u001b[0;32mreturn\u001b[0m \u001b[0mfunc\u001b[0m\u001b[0;34m(\u001b[0m\u001b[0;34m*\u001b[0m\u001b[0margs\u001b[0m\u001b[0;34m,\u001b[0m \u001b[0;34m**\u001b[0m\u001b[0mkwargs\u001b[0m\u001b[0;34m)\u001b[0m\u001b[0;34m\u001b[0m\u001b[0;34m\u001b[0m\u001b[0m\n\u001b[0m\u001b[1;32m    312\u001b[0m \u001b[0;34m\u001b[0m\u001b[0m\n\u001b[1;32m    313\u001b[0m         \u001b[0;32mreturn\u001b[0m \u001b[0mwrapper\u001b[0m\u001b[0;34m\u001b[0m\u001b[0;34m\u001b[0m\u001b[0m\n",
      "\u001b[0;32m~/anaconda3/envs/tensor-gpu/lib/python3.8/site-packages/pandas/io/parsers/readers.py\u001b[0m in \u001b[0;36mread_csv\u001b[0;34m(filepath_or_buffer, sep, delimiter, header, names, index_col, usecols, squeeze, prefix, mangle_dupe_cols, dtype, engine, converters, true_values, false_values, skipinitialspace, skiprows, skipfooter, nrows, na_values, keep_default_na, na_filter, verbose, skip_blank_lines, parse_dates, infer_datetime_format, keep_date_col, date_parser, dayfirst, cache_dates, iterator, chunksize, compression, thousands, decimal, lineterminator, quotechar, quoting, doublequote, escapechar, comment, encoding, encoding_errors, dialect, error_bad_lines, warn_bad_lines, on_bad_lines, delim_whitespace, low_memory, memory_map, float_precision, storage_options)\u001b[0m\n\u001b[1;32m    584\u001b[0m     \u001b[0mkwds\u001b[0m\u001b[0;34m.\u001b[0m\u001b[0mupdate\u001b[0m\u001b[0;34m(\u001b[0m\u001b[0mkwds_defaults\u001b[0m\u001b[0;34m)\u001b[0m\u001b[0;34m\u001b[0m\u001b[0;34m\u001b[0m\u001b[0m\n\u001b[1;32m    585\u001b[0m \u001b[0;34m\u001b[0m\u001b[0m\n\u001b[0;32m--> 586\u001b[0;31m     \u001b[0;32mreturn\u001b[0m \u001b[0m_read\u001b[0m\u001b[0;34m(\u001b[0m\u001b[0mfilepath_or_buffer\u001b[0m\u001b[0;34m,\u001b[0m \u001b[0mkwds\u001b[0m\u001b[0;34m)\u001b[0m\u001b[0;34m\u001b[0m\u001b[0;34m\u001b[0m\u001b[0m\n\u001b[0m\u001b[1;32m    587\u001b[0m \u001b[0;34m\u001b[0m\u001b[0m\n\u001b[1;32m    588\u001b[0m \u001b[0;34m\u001b[0m\u001b[0m\n",
      "\u001b[0;32m~/anaconda3/envs/tensor-gpu/lib/python3.8/site-packages/pandas/io/parsers/readers.py\u001b[0m in \u001b[0;36m_read\u001b[0;34m(filepath_or_buffer, kwds)\u001b[0m\n\u001b[1;32m    480\u001b[0m \u001b[0;34m\u001b[0m\u001b[0m\n\u001b[1;32m    481\u001b[0m     \u001b[0;31m# Create the parser.\u001b[0m\u001b[0;34m\u001b[0m\u001b[0;34m\u001b[0m\u001b[0;34m\u001b[0m\u001b[0m\n\u001b[0;32m--> 482\u001b[0;31m     \u001b[0mparser\u001b[0m \u001b[0;34m=\u001b[0m \u001b[0mTextFileReader\u001b[0m\u001b[0;34m(\u001b[0m\u001b[0mfilepath_or_buffer\u001b[0m\u001b[0;34m,\u001b[0m \u001b[0;34m**\u001b[0m\u001b[0mkwds\u001b[0m\u001b[0;34m)\u001b[0m\u001b[0;34m\u001b[0m\u001b[0;34m\u001b[0m\u001b[0m\n\u001b[0m\u001b[1;32m    483\u001b[0m \u001b[0;34m\u001b[0m\u001b[0m\n\u001b[1;32m    484\u001b[0m     \u001b[0;32mif\u001b[0m \u001b[0mchunksize\u001b[0m \u001b[0;32mor\u001b[0m \u001b[0miterator\u001b[0m\u001b[0;34m:\u001b[0m\u001b[0;34m\u001b[0m\u001b[0;34m\u001b[0m\u001b[0m\n",
      "\u001b[0;32m~/anaconda3/envs/tensor-gpu/lib/python3.8/site-packages/pandas/io/parsers/readers.py\u001b[0m in \u001b[0;36m__init__\u001b[0;34m(self, f, engine, **kwds)\u001b[0m\n\u001b[1;32m    809\u001b[0m             \u001b[0mself\u001b[0m\u001b[0;34m.\u001b[0m\u001b[0moptions\u001b[0m\u001b[0;34m[\u001b[0m\u001b[0;34m\"has_index_names\"\u001b[0m\u001b[0;34m]\u001b[0m \u001b[0;34m=\u001b[0m \u001b[0mkwds\u001b[0m\u001b[0;34m[\u001b[0m\u001b[0;34m\"has_index_names\"\u001b[0m\u001b[0;34m]\u001b[0m\u001b[0;34m\u001b[0m\u001b[0;34m\u001b[0m\u001b[0m\n\u001b[1;32m    810\u001b[0m \u001b[0;34m\u001b[0m\u001b[0m\n\u001b[0;32m--> 811\u001b[0;31m         \u001b[0mself\u001b[0m\u001b[0;34m.\u001b[0m\u001b[0m_engine\u001b[0m \u001b[0;34m=\u001b[0m \u001b[0mself\u001b[0m\u001b[0;34m.\u001b[0m\u001b[0m_make_engine\u001b[0m\u001b[0;34m(\u001b[0m\u001b[0mself\u001b[0m\u001b[0;34m.\u001b[0m\u001b[0mengine\u001b[0m\u001b[0;34m)\u001b[0m\u001b[0;34m\u001b[0m\u001b[0;34m\u001b[0m\u001b[0m\n\u001b[0m\u001b[1;32m    812\u001b[0m \u001b[0;34m\u001b[0m\u001b[0m\n\u001b[1;32m    813\u001b[0m     \u001b[0;32mdef\u001b[0m \u001b[0mclose\u001b[0m\u001b[0;34m(\u001b[0m\u001b[0mself\u001b[0m\u001b[0;34m)\u001b[0m\u001b[0;34m:\u001b[0m\u001b[0;34m\u001b[0m\u001b[0;34m\u001b[0m\u001b[0m\n",
      "\u001b[0;32m~/anaconda3/envs/tensor-gpu/lib/python3.8/site-packages/pandas/io/parsers/readers.py\u001b[0m in \u001b[0;36m_make_engine\u001b[0;34m(self, engine)\u001b[0m\n\u001b[1;32m   1038\u001b[0m             )\n\u001b[1;32m   1039\u001b[0m         \u001b[0;31m# error: Too many arguments for \"ParserBase\"\u001b[0m\u001b[0;34m\u001b[0m\u001b[0;34m\u001b[0m\u001b[0;34m\u001b[0m\u001b[0m\n\u001b[0;32m-> 1040\u001b[0;31m         \u001b[0;32mreturn\u001b[0m \u001b[0mmapping\u001b[0m\u001b[0;34m[\u001b[0m\u001b[0mengine\u001b[0m\u001b[0;34m]\u001b[0m\u001b[0;34m(\u001b[0m\u001b[0mself\u001b[0m\u001b[0;34m.\u001b[0m\u001b[0mf\u001b[0m\u001b[0;34m,\u001b[0m \u001b[0;34m**\u001b[0m\u001b[0mself\u001b[0m\u001b[0;34m.\u001b[0m\u001b[0moptions\u001b[0m\u001b[0;34m)\u001b[0m  \u001b[0;31m# type: ignore[call-arg]\u001b[0m\u001b[0;34m\u001b[0m\u001b[0;34m\u001b[0m\u001b[0m\n\u001b[0m\u001b[1;32m   1041\u001b[0m \u001b[0;34m\u001b[0m\u001b[0m\n\u001b[1;32m   1042\u001b[0m     \u001b[0;32mdef\u001b[0m \u001b[0m_failover_to_python\u001b[0m\u001b[0;34m(\u001b[0m\u001b[0mself\u001b[0m\u001b[0;34m)\u001b[0m\u001b[0;34m:\u001b[0m\u001b[0;34m\u001b[0m\u001b[0;34m\u001b[0m\u001b[0m\n",
      "\u001b[0;32m~/anaconda3/envs/tensor-gpu/lib/python3.8/site-packages/pandas/io/parsers/c_parser_wrapper.py\u001b[0m in \u001b[0;36m__init__\u001b[0;34m(self, src, **kwds)\u001b[0m\n\u001b[1;32m     49\u001b[0m \u001b[0;34m\u001b[0m\u001b[0m\n\u001b[1;32m     50\u001b[0m         \u001b[0;31m# open handles\u001b[0m\u001b[0;34m\u001b[0m\u001b[0;34m\u001b[0m\u001b[0;34m\u001b[0m\u001b[0m\n\u001b[0;32m---> 51\u001b[0;31m         \u001b[0mself\u001b[0m\u001b[0;34m.\u001b[0m\u001b[0m_open_handles\u001b[0m\u001b[0;34m(\u001b[0m\u001b[0msrc\u001b[0m\u001b[0;34m,\u001b[0m \u001b[0mkwds\u001b[0m\u001b[0;34m)\u001b[0m\u001b[0;34m\u001b[0m\u001b[0;34m\u001b[0m\u001b[0m\n\u001b[0m\u001b[1;32m     52\u001b[0m         \u001b[0;32massert\u001b[0m \u001b[0mself\u001b[0m\u001b[0;34m.\u001b[0m\u001b[0mhandles\u001b[0m \u001b[0;32mis\u001b[0m \u001b[0;32mnot\u001b[0m \u001b[0;32mNone\u001b[0m\u001b[0;34m\u001b[0m\u001b[0;34m\u001b[0m\u001b[0m\n\u001b[1;32m     53\u001b[0m \u001b[0;34m\u001b[0m\u001b[0m\n",
      "\u001b[0;32m~/anaconda3/envs/tensor-gpu/lib/python3.8/site-packages/pandas/io/parsers/base_parser.py\u001b[0m in \u001b[0;36m_open_handles\u001b[0;34m(self, src, kwds)\u001b[0m\n\u001b[1;32m    220\u001b[0m         \u001b[0mLet\u001b[0m \u001b[0mthe\u001b[0m \u001b[0mreaders\u001b[0m \u001b[0mopen\u001b[0m \u001b[0mIOHandles\u001b[0m \u001b[0mafter\u001b[0m \u001b[0mthey\u001b[0m \u001b[0mare\u001b[0m \u001b[0mdone\u001b[0m \u001b[0;32mwith\u001b[0m \u001b[0mtheir\u001b[0m \u001b[0mpotential\u001b[0m \u001b[0mraises\u001b[0m\u001b[0;34m.\u001b[0m\u001b[0;34m\u001b[0m\u001b[0;34m\u001b[0m\u001b[0m\n\u001b[1;32m    221\u001b[0m         \"\"\"\n\u001b[0;32m--> 222\u001b[0;31m         self.handles = get_handle(\n\u001b[0m\u001b[1;32m    223\u001b[0m             \u001b[0msrc\u001b[0m\u001b[0;34m,\u001b[0m\u001b[0;34m\u001b[0m\u001b[0;34m\u001b[0m\u001b[0m\n\u001b[1;32m    224\u001b[0m             \u001b[0;34m\"r\"\u001b[0m\u001b[0;34m,\u001b[0m\u001b[0;34m\u001b[0m\u001b[0;34m\u001b[0m\u001b[0m\n",
      "\u001b[0;32m~/anaconda3/envs/tensor-gpu/lib/python3.8/site-packages/pandas/io/common.py\u001b[0m in \u001b[0;36mget_handle\u001b[0;34m(path_or_buf, mode, encoding, compression, memory_map, is_text, errors, storage_options)\u001b[0m\n\u001b[1;32m    700\u001b[0m         \u001b[0;32mif\u001b[0m \u001b[0mioargs\u001b[0m\u001b[0;34m.\u001b[0m\u001b[0mencoding\u001b[0m \u001b[0;32mand\u001b[0m \u001b[0;34m\"b\"\u001b[0m \u001b[0;32mnot\u001b[0m \u001b[0;32min\u001b[0m \u001b[0mioargs\u001b[0m\u001b[0;34m.\u001b[0m\u001b[0mmode\u001b[0m\u001b[0;34m:\u001b[0m\u001b[0;34m\u001b[0m\u001b[0;34m\u001b[0m\u001b[0m\n\u001b[1;32m    701\u001b[0m             \u001b[0;31m# Encoding\u001b[0m\u001b[0;34m\u001b[0m\u001b[0;34m\u001b[0m\u001b[0;34m\u001b[0m\u001b[0m\n\u001b[0;32m--> 702\u001b[0;31m             handle = open(\n\u001b[0m\u001b[1;32m    703\u001b[0m                 \u001b[0mhandle\u001b[0m\u001b[0;34m,\u001b[0m\u001b[0;34m\u001b[0m\u001b[0;34m\u001b[0m\u001b[0m\n\u001b[1;32m    704\u001b[0m                 \u001b[0mioargs\u001b[0m\u001b[0;34m.\u001b[0m\u001b[0mmode\u001b[0m\u001b[0;34m,\u001b[0m\u001b[0;34m\u001b[0m\u001b[0;34m\u001b[0m\u001b[0m\n",
      "\u001b[0;31mFileNotFoundError\u001b[0m: [Errno 2] No such file or directory: 'mhealth_TTC_maxpool_w2048_p2_1.csv'"
     ]
    }
   ],
   "source": [
    "for dataset in [\"mhealth\",\"pamap2\", \"skoda\"]:\n",
    "    print(dataset)\n",
    "    results = []\n",
    "    results_noPseudo = []\n",
    "    results_noICC = []\n",
    "    results_noICC_km = []\n",
    "    for i in range(1,6):\n",
    "        try:\n",
    "            results.append(pd.read_csv(\"{:s}_TTC_MaxPool_w2048_saveResults_{:d}.csv\".format(dataset, i)).values[-1])\n",
    "            results_noPseudo.append(pd.read_csv(\"{:s}_TTC_MaxPool_w2048_saveResults_noPseudo_{:d}.csv\".format(dataset, i)).values[-1])\n",
    "            # results_noICC.append(pd.read_csv(\"{:s}_TTC_MaxPool_w2048_saveResults_noICC_{:d}.csv\".format(dataset, i)).values[-1])\n",
    "            # results_noICC_km.append(pd.read_csv(\"{:s}_TTC_MaxPool_w2048_saveResults_km_noICC_{:d}.csv\".format(dataset, i)).values[-1])\n",
    "        # except FileNotFoundError:\n",
    "        #     results.append(pd.read_csv(\"{:s}_TTC_maxpool_w2048_saveResults_{:d}.csv\".format(dataset, i)).values[-1])\n",
    "        #     results_noPseudo.append(pd.read_csv(\"{:s}_TTC_MaxPooling_w2048_saveResults_noPseudo_{:d}.csv\".format(dataset, i)).values[-1])\n",
    "        #     # results_noICC.append(pd.read_csv(\"{:s}_TTC_MaxPooling_w2048_saveResults_noICC_{:d}.csv\".format(dataset, i)).values[-1])\n",
    "        #     # results_noICC_km.append(pd.read_csv(\"{:s}_TTC_MaxPooling_w2048_saveResults_km_noICC_{:d}.csv\".format(dataset, i)).values[-1])\n",
    "        except FileNotFoundError:\n",
    "            results.append(pd.read_csv(\"{:s}_TTC_maxpool_w2048_p2_{:d}.csv\".format(dataset, i)).values[-1])\n",
    "            results_noPseudo.append(pd.read_csv(\"{:s}_TTC_MaxPooling_w2048_p2_noPseudo_{:d}.csv\".format(dataset, i)).values[-1])\n",
    "            # results_noICC.append(pd.read_csv(\"{:s}_TTC_MaxPooling_w2048_saveResults_noICC_{:d}.csv\".format(dataset, i)).values[-1])\n",
    "            # results_noICC_km.append(pd.read_csv(\"{:s}_TTC_MaxPooling_w2048_saveResults_km_noICC_{:d}.csv\".format(dataset, i)).values[-1])\n",
    "        except FileNotFoundError:\n",
    "            print(i)\n",
    "            continue\n",
    "    try:\n",
    "        results = pd.concat(results, axis = 0)\n",
    "        results_noPseudo = pd.concat(results_noPseudo, axis = 0)\n",
    "        # results_noICC = pd.concat(results_noICC, axis = 0)\n",
    "        # results_noICC_km = pd.concat(results_noICC_km, axis = 0)\n",
    "    except TypeError:\n",
    "        results = np.stack(results, axis = 0)\n",
    "        results = results.astype(float)\n",
    "        results_noPseudo = np.stack(results_noPseudo, axis = 0)\n",
    "        results_noPseudo = results_noPseudo.astype(float)\n",
    "        # results_noICC = np.stack(results_noICC, axis = 0)\n",
    "        # results_noICC = results_noICC.astype(float)\n",
    "        # results_noICC_km = np.stack(results_noICC_km, axis = 0)\n",
    "        # results_noICC_km = results_noICC_km.astype(float)\n",
    "    print(\"Original\")\n",
    "    print(results)\n",
    "    print(results.mean(axis = 0))\n",
    "    print(results.std(axis = 0))\n",
    "    print(\"Original_noPseudo\")\n",
    "    print(results_noPseudo)\n",
    "    print(results_noPseudo.mean(axis = 0))\n",
    "    print(results_noPseudo.std(axis = 0))\n",
    "    # print(\"Original_noICC\")\n",
    "    # # print(results_noICC)\n",
    "    # print(results_noICC.mean(axis = 0))\n",
    "    # print(results_noICC.std(axis = 0))\n",
    "    # print(\"Original_noICC_km\")\n",
    "    # # print(results_noICC_km)\n",
    "    # print(results_noICC_km.mean(axis = 0))\n",
    "    # print(results_noICC_km.std(axis = 0))"
   ]
  },
  {
   "cell_type": "code",
   "execution_count": 196,
   "id": "c2ad1381-952c-4b5c-aa91-4447d136bc32",
   "metadata": {},
   "outputs": [
    {
     "name": "stdout",
     "output_type": "stream",
     "text": [
      "skoda\n",
      "Original\n",
      "[[0.86747552 0.86746033 0.80274428 0.79336299 0.83559207]\n",
      " [0.96281855 0.96281433 0.97235211 0.98370313 0.98542857]\n",
      " [0.88636362 0.88635058 0.83254716 0.80791301 0.85339645]\n",
      " [0.89640367 0.89639176 0.83944705 0.81324779 0.85925096]\n",
      " [0.87885628 0.87884236 0.814637   0.79852963 0.84499449]]\n",
      "[0.89838353 0.89837187 0.85234552 0.83935131 0.87573251]\n",
      "[0.03357645 0.03358031 0.06138753 0.07251006 0.05542535]\n",
      "NoPseudo\n",
      "[[0.87556054 0.87554641 0.78131885 0.80050808 0.82370705]\n",
      " [0.90044916 0.90043747 0.86669461 0.81460509 0.87882465]\n",
      " [0.77456377 0.77453769 0.59642276 0.64339432 0.68187418]\n",
      " [0.87628124 0.87626721 0.8171228  0.80598116 0.85564747]\n",
      " [0.89133819 0.8913257  0.83023083 0.80989898 0.85691656]]\n",
      "[0.86363858 0.8636229  0.77835797 0.77487753 0.81939398]\n",
      "[0.0455161  0.04552138 0.09498005 0.06590444 0.07097121]\n",
      "NoICC\n",
      "[[0.84333852 0.8433207  0.74150546 0.78305123 0.80984891]\n",
      " [0.9251771  0.9251686  0.93017544 0.96237626 0.9644561 ]\n",
      " [0.86452461 0.86450921 0.76617346 0.7902239  0.81550889]\n",
      " [0.87882111 0.8788074  0.83096875 0.93170357 0.92487332]\n",
      " [0.85981095 0.85979496 0.76884078 0.79053203 0.81898269]]\n",
      "[0.87433446 0.87432017 0.80753278 0.8515774  0.86673398]\n",
      "[0.0278317  0.02783488 0.06805548 0.07859162 0.06491518]\n"
     ]
    }
   ],
   "source": [
    "for dataset in [\"skoda\"]:\n",
    "    print(dataset)\n",
    "    results = []\n",
    "    results_noPseudo = []\n",
    "    results_noICC = []\n",
    "    results_noICC_km = []\n",
    "    for i in range(1,6):\n",
    "        try:\n",
    "            results.append(pd.read_csv(\"{:s}_TTC_MaxPool_w2048_saveResults_t2_b500_{:d}.csv\".format(dataset, i)).values[-1])\n",
    "            results_noPseudo.append(pd.read_csv(\"{:s}_TTC_MaxPool_w2048_saveResults_noPseudo_{:d}.csv\".format(dataset, i)).values[-1])\n",
    "            # results_noICC.append(pd.read_csv(\"{:s}_TTC_MaxPool_w2048_saveResults_noICC_{:d}.csv\".format(dataset, i)).values[-1])\n",
    "            results_noICC_km.append(pd.read_csv(\"{:s}_TTC_MaxPool_w2048_saveResults_km_noICC_{:d}.csv\".format(dataset, i)).values[-1])\n",
    "        # except FileNotFoundError:\n",
    "        #     results.append(pd.read_csv(\"{:s}_TTC_maxpool_w2048_saveResults_{:d}.csv\".format(dataset, i)).values[-1])\n",
    "        #     results_noPseudo.append(pd.read_csv(\"{:s}_TTC_MaxPooling_w2048_saveResults_noPseudo_{:d}.csv\".format(dataset, i)).values[-1])\n",
    "        #     # results_noICC.append(pd.read_csv(\"{:s}_TTC_MaxPooling_w2048_saveResults_noICC_{:d}.csv\".format(dataset, i)).values[-1])\n",
    "            # results_noICC_km.append(pd.read_csv(\"{:s}_TTC_MaxPooling_w2048_saveResults_km_noICC_{:d}.csv\".format(dataset, i)).values[-1])\n",
    "        except FileNotFoundError:\n",
    "            results.append(pd.read_csv(\"{:s}_TTC_maxpool_w2048_t2_b500_{:d}.csv\".format(dataset, i)).values[-1])\n",
    "            results_noPseudo.append(pd.read_csv(\"{:s}_TTC_MaxPooling_w2048_noPseudo_{:d}.csv\".format(dataset, i)).values[-1])\n",
    "            # results_noICC.append(pd.read_csv(\"{:s}_TTC_MaxPooling_w2048_noICC_{:d}.csv\".format(dataset, i)).values[-1])\n",
    "            results_noICC_km.append(pd.read_csv(\"{:s}_TTC_MaxPooling_w2048_km_noICC_{:d}.csv\".format(dataset, i)).values[-1])\n",
    "        except FileNotFoundError:\n",
    "            print(i)\n",
    "            continue\n",
    "    try:\n",
    "        results = pd.concat(results, axis = 0)\n",
    "        results_noPseudo = pd.concat(results_noPseudo, axis = 0)\n",
    "        # results_noICC = pd.concat(results_noICC, axis = 0)\n",
    "        results_noICC_km = pd.concat(results_noICC_km, axis = 0)\n",
    "    except TypeError:\n",
    "        results = np.stack(results, axis = 0)\n",
    "        results = results.astype(float)\n",
    "        results_noPseudo = np.stack(results_noPseudo, axis = 0)\n",
    "        results_noPseudo = results_noPseudo.astype(float)\n",
    "        # results_noICC = np.stack(results_noICC, axis = 0)\n",
    "        # results_noICC = results_noICC.astype(float)\n",
    "        results_noICC_km = np.stack(results_noICC_km, axis = 0)\n",
    "        results_noICC_km = results_noICC_km.astype(float)\n",
    "    print(\"Original\")\n",
    "    print(results)\n",
    "    print(results.mean(axis = 0))\n",
    "    print(results.std(axis = 0))\n",
    "    print(\"NoPseudo\")\n",
    "    print(results_noPseudo)\n",
    "    print(results_noPseudo.mean(axis = 0))\n",
    "    print(results_noPseudo.std(axis = 0))\n",
    "    print(\"NoICC\")\n",
    "    print(results_noICC_km)\n",
    "    print(results_noICC_km.mean(axis = 0))\n",
    "    print(results_noICC_km.std(axis = 0))"
   ]
  },
  {
   "cell_type": "code",
   "execution_count": 230,
   "id": "f8a8294d-8162-4013-b2ed-5ab437c468be",
   "metadata": {
    "collapsed": true,
    "jupyter": {
     "outputs_hidden": true
    },
    "tags": []
   },
   "outputs": [
    {
     "name": "stdout",
     "output_type": "stream",
     "text": [
      "mhealth\n",
      "Original\n",
      "[[0.91381855 0.91375794 0.87318223 0.85638526 0.90598169]\n",
      " [0.90596137 0.90589491 0.83171687 0.83845373 0.89077159]\n",
      " [0.91081199 0.91074753 0.78530365 0.73674137 0.77474839]\n",
      " [0.92087085 0.92081483 0.82262306 0.80816545 0.83379769]\n",
      " [0.88195412 0.88187156 0.80674814 0.88427142 0.88451697]]\n",
      "[0.90668338 0.90661736 0.82391479 0.82480345 0.85796327]\n",
      "[0.01327628 0.01328526 0.02924153 0.05050135 0.04815796]\n",
      "Original_noPseudo\n",
      "[[0.89105377 0.89097647 0.79337731 0.8142974  0.83729459]\n",
      " [0.88605301 0.88597246 0.7844315  0.79800864 0.80784102]\n",
      " [0.93179104 0.93174344 0.89446611 0.91280542 0.92798658]\n",
      " [0.87766068 0.87757075 0.75127668 0.73455108 0.77770512]\n",
      " [0.896634   0.89656061 0.80697231 0.82307349 0.84488543]]\n",
      "[0.8966385  0.89656474 0.80610478 0.81654721 0.83914255]\n",
      "[0.01864994 0.01866407 0.04784625 0.05723695 0.05036666]\n",
      "Original_noICC\n",
      "[[0.84239505 0.84228085 0.64762998 0.71035305 0.7182578 ]\n",
      " [0.89029955 0.89022117 0.77499489 0.77219669 0.80087565]\n",
      " [0.89806721 0.89799471 0.81661349 0.82851059 0.855632  ]\n",
      " [0.92410885 0.92405592 0.89325487 0.92172768 0.93475294]\n",
      " [0.84301896 0.84290675 0.69954021 0.6264458  0.68593279]]\n",
      "[0.87957792 0.87949188 0.76640669 0.77184676 0.79909024]\n",
      "[0.03212144 0.03214516 0.08632957 0.10059634 0.0904909 ]\n",
      "Original_noICC_km\n",
      "[[0.89283525 0.89275926 0.80762371 0.81355566 0.83936999]\n",
      " [0.85785189 0.85775115 0.74762756 0.74974037 0.79754933]\n",
      " [0.87554202 0.87545365 0.76230177 0.80586684 0.81713766]\n",
      " [0.87293064 0.87284045 0.77023922 0.78578685 0.81020072]\n",
      " [0.92182601 0.92177055 0.8404029  0.83459824 0.85295957]]\n",
      "[0.88419716 0.88411501 0.78563903 0.79790959 0.82344345]\n",
      "[0.02184704 0.02186253 0.03379071 0.02871031 0.02005241]\n",
      "pamap2\n",
      "Original\n",
      "[[0.82145618 0.82136967 0.71622537 0.67920956 0.7399456 ]\n",
      " [0.8654623  0.86539771 0.76882243 0.68223636 0.7543352 ]\n",
      " [0.84304355 0.84296796 0.74882411 0.73598507 0.78149413]\n",
      " [0.81609288 0.81600321 0.67593694 0.67381703 0.72831433]\n",
      " [0.86662004 0.86655603 0.79529831 0.74091978 0.80244199]]\n",
      "[0.84253499 0.84245892 0.74102143 0.70243356 0.76130625]\n",
      "[0.0212109  0.02122159 0.04154658 0.02957391 0.02717734]\n",
      "Original_noPseudo\n",
      "[[0.80958746 0.8094949  0.65970096 0.58913544 0.6832745 ]\n",
      " [0.82077538 0.82068923 0.71602146 0.7222528  0.75472098]\n",
      " [0.80538643 0.8052923  0.68252685 0.63738608 0.7083695 ]\n",
      " [0.81729722 0.8172092  0.69821687 0.68782841 0.73464113]\n",
      " [0.85608712 0.856018   0.77262389 0.68981275 0.76764462]]\n",
      "[0.82182672 0.82174072 0.705818   0.6652831  0.72973015]\n",
      "[0.01797487 0.01798379 0.03819469 0.04675949 0.03066128]\n",
      "Original_noICC\n",
      "[[0.82017478 0.82008749 0.68062437 0.69454098 0.73548984]\n",
      " [0.78822952 0.78812566 0.62037226 0.64501532 0.70080821]\n",
      " [0.8267335  0.82665003 0.70807293 0.72618979 0.76168432]\n",
      " [0.75802408 0.75790493 0.56904555 0.59179185 0.65464962]\n",
      " [0.77846347 0.7783564  0.63742462 0.67253248 0.70973902]]\n",
      "[0.79432507 0.7942249  0.64310795 0.66601408 0.7124742 ]\n",
      "[0.02578768 0.02580083 0.04829572 0.04566679 0.03588486]\n",
      "Original_noICC_km\n",
      "[[0.78749993 0.78739753 0.65549617 0.67257194 0.70989333]\n",
      " [0.79450665 0.79440758 0.68595248 0.69960622 0.74260749]\n",
      " [0.81625572 0.81616717 0.72023302 0.71925048 0.76490558]\n",
      " [0.79185861 0.79175822 0.65961495 0.69385779 0.72243119]\n",
      " [0.78251597 0.7824104  0.63163631 0.62433141 0.69652605]]\n",
      "[0.79452738 0.79442818 0.67058659 0.68192357 0.72727273]\n",
      "[0.01160089 0.01160664 0.03021953 0.03241206 0.02417531]\n",
      "skoda\n",
      "Original\n",
      "[[0.86262411 0.86260869 0.73343696 0.78414314 0.76878399]\n",
      " [0.86767658 0.86766168 0.7288353  0.77859084 0.76732036]\n",
      " [0.84918668 0.84916913 0.73091057 0.83345452 0.8476531 ]\n",
      " [0.76193522 0.7619074  0.60074606 0.71344503 0.73904827]\n",
      " [0.88583798 0.8858248  0.83304137 0.80566581 0.85637002]]\n",
      "[0.84545211 0.84543434 0.72539405 0.78305987 0.79583515]\n",
      "[0.04337935 0.04338456 0.07379977 0.03979453 0.04715756]\n",
      "Original_noPseudo\n",
      "[[0.88925265 0.88924018 0.75284339 0.79402305 0.78166946]\n",
      " [0.85746344 0.85744739 0.72188323 0.77740424 0.76302211]\n",
      " [0.86588092 0.86586536 0.819501   0.80160826 0.85641634]\n",
      " [0.91723272 0.91722318 0.85114336 0.82098188 0.86863484]\n",
      " [0.90595259 0.90594173 0.84985285 0.81826441 0.86698595]]\n",
      "[0.88715646 0.88714357 0.79904476 0.80245637 0.82734574]\n",
      "[0.02278857 0.02279112 0.05254075 0.01607817 0.04548645]\n",
      "Original_noICC\n",
      "[[0.85930822 0.85929229 0.76072022 0.80349804 0.81696325]\n",
      " [0.94132897 0.94132229 0.94870607 0.96982783 0.97229298]\n",
      " [0.83581414 0.83579535 0.7495335  0.74067943 0.77924243]\n",
      " [0.86752907 0.86751407 0.81275757 0.84929835 0.86246538]\n",
      " [0.87582264 0.8758086  0.78231552 0.80828289 0.82824615]]\n",
      "[0.87596061 0.87594652 0.81080658 0.83431731 0.85184204]\n",
      "[0.03530771 0.03531174 0.07224244 0.07613567 0.06582596]\n",
      "Original_noICC_km\n",
      "[[0.81254117 0.81252011 0.6844012  0.78809772 0.76081741]\n",
      " [0.84815603 0.84813898 0.71839409 0.80887665 0.78170651]\n",
      " [0.85103307 0.85101634 0.72401786 0.80658864 0.78177136]\n",
      " [0.7237915  0.72375995 0.53795859 0.66643508 0.66508879]\n",
      " [0.81724929 0.81722875 0.68584054 0.8056687  0.77686172]]\n",
      "[0.81055421 0.81053283 0.67012245 0.77513336 0.75324916]\n",
      "[0.04610635 0.04611172 0.06804865 0.05485224 0.04474465]\n"
     ]
    }
   ],
   "source": [
    "for dataset in [\"mhealth\", \"pamap2\",\"skoda\"]:\n",
    "    print(dataset)\n",
    "    results = []\n",
    "    results_noPseudo = []\n",
    "    results_noICC = []\n",
    "    results_noICC_km = []\n",
    "    for i in range(1,6):\n",
    "        if dataset != \"pamap2\":\n",
    "            try:\n",
    "                results.append(pd.read_csv(\"{:s}_TTC_MaxPooling_w2048_b100_3_{:d}.csv\".format(dataset, i)).values[-1])\n",
    "            except FileNotFoundError:\n",
    "                results.append(pd.read_csv(\"{:s}_TTC_MaxPooling_w2048_b500_3_{:d}.csv\".format(dataset, i)).values[-1])\n",
    "            try:\n",
    "                results_noPseudo.append(pd.read_csv(\"{:s}_TTC_MaxPooling_w2048_b100_3_noPseudo_{:d}.csv\".format(dataset, i)).values[-1])\n",
    "            except FileNotFoundError:\n",
    "                results_noPseudo.append(pd.read_csv(\"{:s}_TTC_MaxPooling_w2048_b500_3_noPseudo_{:d}.csv\".format(dataset, i)).values[-1])\n",
    "            try:\n",
    "                results_noICC.append(pd.read_csv(\"{:s}_TTC_MaxPooling_w2048_b100_3_gmm_noICC_{:d}.csv\".format(dataset, i)).values[-1])\n",
    "            except:\n",
    "                results_noICC.append(pd.read_csv(\"{:s}_TTC_MaxPooling_w2048_b500_3_gmm_noICC_{:d}.csv\".format(dataset, i)).values[-1])\n",
    "            try:\n",
    "                results_noICC_km.append(pd.read_csv(\"{:s}_TTC_MaxPooling_w2048_b100_3_km_noICC_{:d}.csv\".format(dataset, i)).values[-1])\n",
    "            except:\n",
    "                results_noICC_km.append(pd.read_csv(\"{:s}_TTC_MaxPooling_w2048_b500_3_km_noICC_{:d}.csv\".format(dataset, i)).values[-1])                \n",
    "        else:\n",
    "            try:\n",
    "                results.append(pd.read_csv(\"{:s}_TTC_MaxPooling_w2048_3_b100_{:d}.csv\".format(dataset, i)).values[-1])\n",
    "                results_noPseudo.append(pd.read_csv(\"{:s}_TTC_MaxPooling_w2048_3_b100_noPseudo_{:d}.csv\".format(dataset, i)).values[-1])\n",
    "                results_noICC.append(pd.read_csv(\"{:s}_TTC_MaxPooling_w2048_3_b100_gmm_noICC_{:d}.csv\".format(dataset, i)).values[-1])\n",
    "                results_noICC_km.append(pd.read_csv(\"{:s}_TTC_MaxPooling_w2048_3_b100_km_noICC_{:d}.csv\".format(dataset, i)).values[-1])\n",
    "            except FileNotFoundError:\n",
    "                results.append(pd.read_csv(\"{:s}_TTC_MaxPooling_w2048_3_b500_{:d}.csv\".format(dataset, i)).values[-1])\n",
    "                results_noPseudo.append(pd.read_csv(\"{:s}_TTC_MaxPooling_w2048_3_b500_noPseudo_{:d}.csv\".format(dataset, i)).values[-1])\n",
    "                results_noICC.append(pd.read_csv(\"{:s}_TTC_MaxPooling_w2048_3_b500_gmm_noICC_{:d}.csv\".format(dataset, i)).values[-1])\n",
    "                results_noICC_km.append(pd.read_csv(\"{:s}_TTC_MaxPooling_w2048_3_b500_km_noICC_{:d}.csv\".format(dataset, i)).values[-1])\n",
    "            except FileNotFoundError:\n",
    "                print(i)\n",
    "                continue\n",
    "    try:\n",
    "        results = pd.concat(results, axis = 0)\n",
    "        # results_noPseudo = pd.concat(results_noPseudo, axis = 0)\n",
    "        # results_noICC = pd.concat(results_noICC, axis = 0)\n",
    "        # results_noICC_km = pd.concat(results_noICC_km, axis = 0)\n",
    "    except TypeError:\n",
    "        results = np.stack(results, axis = 0)\n",
    "        results = results.astype(float)\n",
    "        results_noPseudo = np.stack(results_noPseudo, axis = 0)\n",
    "        results_noPseudo = results_noPseudo.astype(float)\n",
    "        results_noICC = np.stack(results_noICC, axis = 0)\n",
    "        results_noICC = results_noICC.astype(float)\n",
    "        results_noICC_km = np.stack(results_noICC_km, axis = 0)\n",
    "        results_noICC_km = results_noICC_km.astype(float)\n",
    "    print(\"Original\")\n",
    "    print(results)\n",
    "    print(results.mean(axis = 0))\n",
    "    print(results.std(axis = 0))\n",
    "    print(\"Original_noPseudo\")\n",
    "    print(results_noPseudo)\n",
    "    print(results_noPseudo.mean(axis = 0))\n",
    "    print(results_noPseudo.std(axis = 0))\n",
    "    print(\"Original_noICC\")\n",
    "    print(results_noICC)\n",
    "    print(results_noICC.mean(axis = 0))\n",
    "    print(results_noICC.std(axis = 0))\n",
    "    print(\"Original_noICC_km\")\n",
    "    print(results_noICC_km)\n",
    "    print(results_noICC_km.mean(axis = 0))\n",
    "    print(results_noICC_km.std(axis = 0))"
   ]
  },
  {
   "cell_type": "code",
   "execution_count": 254,
   "id": "e6f7475c-b45f-4dc6-9015-9a310b764eee",
   "metadata": {
    "tags": []
   },
   "outputs": [
    {
     "name": "stdout",
     "output_type": "stream",
     "text": [
      "mhealth \n",
      "0.917 ( ± 0.027 )\n",
      "0.917 ( ± 0.027 )\n",
      "0.868 ( ± 0.042 )\n",
      "0.866 ( ± 0.048 )\n",
      "0.908 ( ± 0.038 )\n",
      "mhealth noTCN_\n",
      "0.906 ( ± 0.013 )\n",
      "0.905 ( ± 0.013 )\n",
      "0.841 ( ± 0.021 )\n",
      "0.855 ( ± 0.034 )\n",
      "0.890 ( ± 0.024 )\n",
      "mhealth noPseudo_\n",
      "0.939 ( ± 0.021 )\n",
      "0.938 ( ± 0.021 )\n",
      "0.894 ( ± 0.048 )\n",
      "0.866 ( ± 0.057 )\n",
      "0.912 ( ± 0.050 )\n",
      "pamap2 \n",
      "0.813 ( ± 0.028 )\n",
      "0.813 ( ± 0.028 )\n",
      "0.698 ( ± 0.057 )\n",
      "0.676 ( ± 0.054 )\n",
      "0.731 ( ± 0.050 )\n",
      "pamap2 noTCN_\n",
      "0.811 ( ± 0.021 )\n",
      "0.811 ( ± 0.021 )\n",
      "0.704 ( ± 0.049 )\n",
      "0.675 ( ± 0.027 )\n",
      "0.742 ( ± 0.037 )\n",
      "pamap2 noPseudo_\n",
      "0.782 ( ± 0.012 )\n",
      "0.782 ( ± 0.012 )\n",
      "0.654 ( ± 0.032 )\n",
      "0.646 ( ± 0.018 )\n",
      "0.710 ( ± 0.033 )\n",
      "skoda \n",
      "0.836 ( ± 0.045 )\n",
      "0.836 ( ± 0.045 )\n",
      "0.787 ( ± 0.057 )\n",
      "0.777 ( ± 0.044 )\n",
      "0.837 ( ± 0.041 )\n",
      "skoda noTCN_\n",
      "0.812 ( ± 0.044 )\n",
      "0.812 ( ± 0.044 )\n",
      "0.719 ( ± 0.114 )\n",
      "0.761 ( ± 0.056 )\n",
      "0.797 ( ± 0.080 )\n",
      "skoda noPseudo_\n",
      "0.861 ( ± 0.048 )\n",
      "0.861 ( ± 0.048 )\n",
      "0.820 ( ± 0.060 )\n",
      "0.774 ( ± 0.085 )\n",
      "0.849 ( ± 0.049 )\n"
     ]
    }
   ],
   "source": [
    "datast = \"skoda\"\n",
    "for dataset in [\"mhealth\", \"pamap2\", \"skoda\"]:\n",
    "    for model in [\"\", \"noTCN_\", \"noPseudo_\"]:\n",
    "        results = []\n",
    "        for i in range(1,6):\n",
    "            results.append(pd.read_csv(f\"{dataset}_TTC_MaxPooling_w2048_b100_n8_e2_0.3_{model}{i}.csv\"))\n",
    "        results = pd.concat(results)\n",
    "        \n",
    "        print(dataset, model)\n",
    "        for m, s in zip(results.mean(axis=0), results.std(axis=0)):\n",
    "            print(\"{:.3f} ( ± {:.3f} )\".format(m,s))"
   ]
  },
  {
   "cell_type": "code",
   "execution_count": 237,
   "id": "2eaa9f28-36d2-4bc7-abb1-f6333058d9d3",
   "metadata": {},
   "outputs": [
    {
     "data": {
      "text/plain": [
       "[array([[0.80078729, 0.80076397, 0.75917681, 0.75698249, 0.82083538]]),\n",
       " array([[0.80990302, 0.80988085, 0.7537402 , 0.76806981, 0.82689368]]),\n",
       " array([[0.90436081, 0.90434967, 0.87284253, 0.82269699, 0.88287278]]),\n",
       " array([[0.805553  , 0.8055302 , 0.73510683, 0.71860365, 0.78251244]]),\n",
       " array([[0.86005385, 0.86003751, 0.81618883, 0.81726768, 0.87071912]])]"
      ]
     },
     "execution_count": 237,
     "metadata": {},
     "output_type": "execute_result"
    }
   ],
   "source": [
    "results"
   ]
  },
  {
   "cell_type": "code",
   "execution_count": null,
   "id": "bbddef18-2b2a-4f7b-af86-7a31be727d68",
   "metadata": {},
   "outputs": [],
   "source": []
  }
 ],
 "metadata": {
  "kernelspec": {
   "display_name": "Python 3",
   "language": "python",
   "name": "python3"
  },
  "language_info": {
   "codemirror_mode": {
    "name": "ipython",
    "version": 3
   },
   "file_extension": ".py",
   "mimetype": "text/x-python",
   "name": "python",
   "nbconvert_exporter": "python",
   "pygments_lexer": "ipython3",
   "version": "3.8.10"
  }
 },
 "nbformat": 4,
 "nbformat_minor": 5
}
